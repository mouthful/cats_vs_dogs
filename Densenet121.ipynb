{
 "cells": [
  {
   "cell_type": "markdown",
   "metadata": {},
   "source": [
    "# importing required libraries"
   ]
  },
  {
   "cell_type": "code",
   "execution_count": 3,
   "metadata": {
    "ExecuteTime": {
     "end_time": "2020-06-03T06:01:07.119597Z",
     "start_time": "2020-06-03T06:01:07.115778Z"
    }
   },
   "outputs": [],
   "source": [
    "import torchvision\n",
    "import  torch.nn as nn\n",
    "import torch\n",
    "import torch.nn.functional as F\n",
    "from torchvision import transforms,models,datasets\n",
    "import matplotlib.pyplot as plt\n",
    "from PIL import Image\n",
    "import numpy as np\n",
    "from torch import optim\n",
    "import os\n",
    "import shutil\n",
    "from tqdm import tqdm_notebook as tqdm\n",
    "from collections import OrderedDict"
   ]
  },
  {
   "cell_type": "code",
   "execution_count": 4,
   "metadata": {
    "ExecuteTime": {
     "end_time": "2020-06-03T06:01:12.578583Z",
     "start_time": "2020-06-03T06:01:12.573592Z"
    }
   },
   "outputs": [],
   "source": [
    "import random\n",
    "random.seed(0)\n",
    "device = torch.device(\"cuda:0\" if torch.cuda.is_available() else \"cpu\")"
   ]
  },
  {
   "cell_type": "markdown",
   "metadata": {},
   "source": [
    "# Loading train and test data"
   ]
  },
  {
   "cell_type": "code",
   "execution_count": 2,
   "metadata": {
    "ExecuteTime": {
     "end_time": "2020-06-01T09:19:49.546540Z",
     "start_time": "2020-06-01T09:19:49.495069Z"
    }
   },
   "outputs": [],
   "source": [
    "train_data_dir = '/home/hezhang/workspace/cvpr/data/training_set/training_set'\n",
    "\n",
    "transform = transforms.Compose([transforms.Resize(255),\n",
    "                                transforms.CenterCrop(224),\n",
    "                                transforms.ToTensor()])\n",
    "\n",
    "dataset = torchvision.datasets.ImageFolder(train_data_dir, transform= transform)\n",
    "train_loader = torch.utils.data.DataLoader(dataset, batch_size=400 ,shuffle=True)"
   ]
  },
  {
   "cell_type": "code",
   "execution_count": 4,
   "metadata": {},
   "outputs": [],
   "source": [
    "dataiter = iter(train_loader)\n",
    "ex_img, ex_label = dataiter.next()"
   ]
  },
  {
   "cell_type": "markdown",
   "metadata": {
    "ExecuteTime": {
     "end_time": "2020-06-01T09:19:52.966885Z",
     "start_time": "2020-06-01T09:19:52.959144Z"
    },
    "heading_collapsed": true
   },
   "source": [
    "## unbalance the dataset"
   ]
  },
  {
   "cell_type": "code",
   "execution_count": 8,
   "metadata": {
    "ExecuteTime": {
     "end_time": "2020-06-01T12:30:18.636099Z",
     "start_time": "2020-06-01T12:30:18.631966Z"
    },
    "hidden": true
   },
   "outputs": [],
   "source": [
    "data_root = '/home/hezhang/workspace/cvpr/data/training_set/'\n",
    "cats_list = os.listdir(data_root+'training_set/cats')\n",
    "interest_cats = random.sample(cats_list, int(len(cats_list)/3)) \n",
    "for item in interest_cats:\n",
    "    raw_file = data_root + 'training_set/cats/' + item\n",
    "    target_file = data_root + 'unbalance_set/cats/' + item\n",
    "    shutil.copy(raw_file, target_file)"
   ]
  },
  {
   "cell_type": "code",
   "execution_count": 17,
   "metadata": {
    "ExecuteTime": {
     "end_time": "2020-06-01T12:38:16.730645Z",
     "start_time": "2020-06-01T12:38:15.764248Z"
    },
    "hidden": true
   },
   "outputs": [
    {
     "data": {
      "text/plain": [
       "'/home/hezhang/workspace/cvpr/data/training_set/unbalance_set/dogs/'"
      ]
     },
     "execution_count": 17,
     "metadata": {},
     "output_type": "execute_result"
    }
   ],
   "source": [
    "shutil.copytree(data_root+'training_set/dogs/', data_root + 'unbalance_set/dogs/')"
   ]
  },
  {
   "cell_type": "code",
   "execution_count": 14,
   "metadata": {
    "ExecuteTime": {
     "end_time": "2020-06-01T13:06:47.821859Z",
     "start_time": "2020-06-01T13:06:47.577310Z"
    },
    "hidden": true
   },
   "outputs": [],
   "source": [
    "test_root = '/home/hezhang/workspace/cvpr/data/test_set/'\n",
    "test_cats_list = os.listdir(test_root+'test_set/cats/')\n",
    "test_dogs_list = os.listdir(test_root+'test_set/dogs/')\n",
    "new_test_cats = random.sample(test_cats_list, 500) \n",
    "new_test_dogs = random.sample(test_dogs_list, 500) \n",
    "\n",
    "for item in new_test_cats:\n",
    "    raw_file = test_root + 'test_set/cats/' + item\n",
    "    target_file = test_root + 'new_test_set/cats/' + item\n",
    "    shutil.copy(raw_file, target_file)\n",
    "    \n",
    "for item in new_test_dogs:\n",
    "    raw_file = test_root + 'test_set/dogs/' + item\n",
    "    target_file = test_root + 'new_test_set/dogs/' + item\n",
    "    shutil.copy(raw_file, target_file)"
   ]
  },
  {
   "cell_type": "code",
   "execution_count": null,
   "metadata": {
    "hidden": true
   },
   "outputs": [],
   "source": []
  },
  {
   "cell_type": "markdown",
   "metadata": {},
   "source": [
    "## load new dataset"
   ]
  },
  {
   "cell_type": "code",
   "execution_count": 3,
   "metadata": {
    "ExecuteTime": {
     "end_time": "2020-06-03T01:41:09.130982Z",
     "start_time": "2020-06-03T01:41:09.097094Z"
    }
   },
   "outputs": [],
   "source": [
    "train_data_dir = '/home/hezhang/workspace/cvpr/data/training_set/unbalance_set'\n",
    "\n",
    "transform = transforms.Compose([transforms.Resize(255),\n",
    "                                transforms.CenterCrop(224),\n",
    "                                transforms.ToTensor()])\n",
    "\n",
    "dataset = torchvision.datasets.ImageFolder(train_data_dir, transform= transform)\n",
    "train_loader = torch.utils.data.DataLoader(dataset, batch_size=400 ,shuffle=True)"
   ]
  },
  {
   "cell_type": "code",
   "execution_count": 15,
   "metadata": {
    "ExecuteTime": {
     "end_time": "2020-06-02T14:10:35.123732Z",
     "start_time": "2020-06-02T14:10:35.119228Z"
    }
   },
   "outputs": [
    {
     "data": {
      "text/plain": [
       "{'cats': 0, 'dogs': 1}"
      ]
     },
     "execution_count": 15,
     "metadata": {},
     "output_type": "execute_result"
    }
   ],
   "source": [
    "dataset.class_to_idx"
   ]
  },
  {
   "cell_type": "code",
   "execution_count": 4,
   "metadata": {
    "ExecuteTime": {
     "end_time": "2020-06-02T13:44:10.246044Z",
     "start_time": "2020-06-02T13:44:10.241375Z"
    }
   },
   "outputs": [
    {
     "name": "stdout",
     "output_type": "stream",
     "text": [
      "there are 1332 cats,\n",
      "4005 dogs\n"
     ]
    }
   ],
   "source": [
    "num_cat = 0\n",
    "num_dog = 0\n",
    "for item in dataset.imgs:\n",
    "    if item[1] == 0:\n",
    "        num_cat += 1\n",
    "    else:\n",
    "        num_dog += 1\n",
    "print('there are {} cats,\\n{} dogs'.format(num_cat, num_dog))"
   ]
  },
  {
   "cell_type": "code",
   "execution_count": 4,
   "metadata": {
    "ExecuteTime": {
     "end_time": "2020-06-03T01:41:14.899328Z",
     "start_time": "2020-06-03T01:41:14.892627Z"
    }
   },
   "outputs": [],
   "source": [
    "test_data_dir = '/home/hezhang/workspace/cvpr/data/test_set/new_test_set'\n",
    "\n",
    "transform = transforms.Compose([transforms.Resize(255),\n",
    "                                transforms.CenterCrop(224),\n",
    "                                transforms.ToTensor()])\n",
    "\n",
    "test_dataset = torchvision.datasets.ImageFolder(test_data_dir, transform= transform)\n"
   ]
  },
  {
   "cell_type": "code",
   "execution_count": 6,
   "metadata": {
    "ExecuteTime": {
     "end_time": "2020-06-02T18:58:43.874079Z",
     "start_time": "2020-06-02T18:58:43.869961Z"
    }
   },
   "outputs": [
    {
     "name": "stdout",
     "output_type": "stream",
     "text": [
      "in testing set, there are 499 cats,\n",
      "  \t\t\t 500 dogs\n"
     ]
    }
   ],
   "source": [
    "num_cat = 0\n",
    "num_dog = 0\n",
    "for item in test_dataset.imgs:\n",
    "    if item[1] == 0:\n",
    "        num_cat += 1\n",
    "    else:\n",
    "        num_dog += 1\n",
    "print('in testing set, there are {} cats,\\n  \\t\\t\\t {} dogs'.format(num_cat, num_dog))"
   ]
  },
  {
   "cell_type": "markdown",
   "metadata": {},
   "source": [
    "# Taking batch size of 400 images"
   ]
  },
  {
   "cell_type": "code",
   "execution_count": null,
   "metadata": {
    "ExecuteTime": {
     "start_time": "2020-06-05T15:44:14.916Z"
    }
   },
   "outputs": [],
   "source": [
    "def imshow(inp, title=None):\n",
    "    \"\"\"Imshow for Tensor.\"\"\"\n",
    "    inp = inp.numpy().transpose((1, 2, 0))\n",
    "    plt.figure(figsize=(20,150))\n",
    "    plt.imshow(inp)\n",
    "\n",
    "inputs, classes = next(iter(train_loader))\n",
    "\n",
    "# Make a grid from batch\n",
    "out = torchvision.utils.make_grid(inputs, scale_each= True)\n",
    "\n",
    "imshow(out)\n",
    "plt.savefig('example.png', dpi=300)"
   ]
  },
  {
   "cell_type": "markdown",
   "metadata": {},
   "source": [
    "# Loading Densenet121 model"
   ]
  },
  {
   "cell_type": "code",
   "execution_count": 7,
   "metadata": {
    "ExecuteTime": {
     "end_time": "2020-06-02T13:44:33.332183Z",
     "start_time": "2020-06-02T13:44:32.705960Z"
    }
   },
   "outputs": [],
   "source": [
    "model = models.densenet121(pretrained = True)"
   ]
  },
  {
   "cell_type": "code",
   "execution_count": 8,
   "metadata": {
    "ExecuteTime": {
     "end_time": "2020-06-02T13:44:38.122814Z",
     "start_time": "2020-06-02T13:44:38.116029Z"
    }
   },
   "outputs": [],
   "source": [
    "for params in model.parameters():\n",
    "    params.requires_grad = False"
   ]
  },
  {
   "cell_type": "code",
   "execution_count": 9,
   "metadata": {
    "ExecuteTime": {
     "end_time": "2020-06-02T13:44:38.666186Z",
     "start_time": "2020-06-02T13:44:38.658928Z"
    }
   },
   "outputs": [],
   "source": [
    "classifier = nn.Sequential(OrderedDict([\n",
    "    ('fc1',nn.Linear(1024,500)),\n",
    "    ('relu',nn.ReLU()),\n",
    "    ('fc2',nn.Linear(500,2)),\n",
    "    ('Output',nn.LogSoftmax(dim=1))\n",
    "]))\n",
    "\n",
    "model.classifier = classifier"
   ]
  },
  {
   "cell_type": "markdown",
   "metadata": {},
   "source": [
    "# Moving the model to gpu"
   ]
  },
  {
   "cell_type": "code",
   "execution_count": 10,
   "metadata": {
    "ExecuteTime": {
     "end_time": "2020-06-02T13:44:49.745286Z",
     "start_time": "2020-06-02T13:44:41.674423Z"
    }
   },
   "outputs": [],
   "source": [
    "model = model.cuda()"
   ]
  },
  {
   "cell_type": "code",
   "execution_count": 12,
   "metadata": {
    "ExecuteTime": {
     "end_time": "2020-06-02T14:03:23.965860Z",
     "start_time": "2020-06-02T13:45:28.233996Z"
    },
    "code_folding": [
     8
    ],
    "scrolled": false
   },
   "outputs": [
    {
     "name": "stdout",
     "output_type": "stream",
     "text": [
      "epoch 0, batch 0, loss 0.8136749863624573\n",
      "epoch 0, batch 1, loss 0.6790300011634827\n",
      "epoch 0, batch 2, loss 0.5163564085960388\n",
      "epoch 0, batch 3, loss 0.4315222501754761\n",
      "epoch 0, batch 4, loss 0.31562119722366333\n",
      "epoch 0, batch 5, loss 0.32281434535980225\n",
      "epoch 0, batch 6, loss 0.2436942160129547\n",
      "epoch 0, batch 7, loss 0.1860940009355545\n",
      "epoch 0, batch 8, loss 0.16366992890834808\n",
      "epoch 0, batch 9, loss 0.13759194314479828\n",
      "epoch 0, batch 10, loss 0.11404575407505035\n",
      "epoch 0, batch 11, loss 0.0900752916932106\n",
      "epoch 0, batch 12, loss 0.0839022547006607\n",
      "epoch 0, batch 13, loss 0.08716567605733871\n",
      "epoch:  0     train_loss:   0.2092629127204418    test_loss:     0.024062420427799224     accuracy:   0.9290661811828613\n",
      "epoch 1, batch 0, loss 0.08590292930603027\n",
      "epoch 1, batch 1, loss 0.09661603718996048\n",
      "epoch 1, batch 2, loss 0.08480077981948853\n",
      "epoch 1, batch 3, loss 0.06016164273023605\n",
      "epoch 1, batch 4, loss 0.06585866957902908\n",
      "epoch 1, batch 5, loss 0.05387084558606148\n",
      "epoch 1, batch 6, loss 0.05731429159641266\n",
      "epoch 1, batch 7, loss 0.06553050130605698\n",
      "epoch 1, batch 8, loss 0.05209986865520477\n",
      "epoch 1, batch 9, loss 0.05100478231906891\n",
      "epoch 1, batch 10, loss 0.04524458572268486\n",
      "epoch 1, batch 11, loss 0.04712006077170372\n",
      "epoch 1, batch 12, loss 0.08197996020317078\n",
      "epoch 1, batch 13, loss 0.035674724727869034\n",
      "epoch:  1     train_loss:   0.04415898397564888    test_loss:     0.009641885943710803     accuracy:   0.9799832701683044\n",
      "epoch 2, batch 0, loss 0.04262721911072731\n",
      "epoch 2, batch 1, loss 0.06479161977767944\n",
      "epoch 2, batch 2, loss 0.036128852516412735\n",
      "epoch 2, batch 3, loss 0.028820525854825974\n",
      "epoch 2, batch 4, loss 0.04410741850733757\n",
      "epoch 2, batch 5, loss 0.0433712974190712\n",
      "epoch 2, batch 6, loss 0.055961109697818756\n",
      "epoch 2, batch 7, loss 0.027997039258480072\n",
      "epoch 2, batch 8, loss 0.045033831149339676\n",
      "epoch 2, batch 9, loss 0.03848656639456749\n",
      "epoch 2, batch 10, loss 0.04204827919602394\n",
      "epoch 2, batch 11, loss 0.047210391610860825\n",
      "epoch 2, batch 12, loss 0.04730849340558052\n",
      "epoch 2, batch 13, loss 0.014944433234632015\n",
      "epoch:  2     train_loss:   0.028941853856667876    test_loss:     0.009275266528129577     accuracy:   0.9782914717992147\n",
      "epoch 3, batch 0, loss 0.04134689271450043\n",
      "epoch 3, batch 1, loss 0.04357095807790756\n",
      "epoch 3, batch 2, loss 0.04603332653641701\n",
      "epoch 3, batch 3, loss 0.04785965010523796\n",
      "epoch 3, batch 4, loss 0.04386318102478981\n",
      "epoch 3, batch 5, loss 0.04326402768492699\n",
      "epoch 3, batch 6, loss 0.02590252086520195\n",
      "epoch 3, batch 7, loss 0.04637528583407402\n",
      "epoch 3, batch 8, loss 0.021217556670308113\n",
      "epoch 3, batch 9, loss 0.042216237634420395\n",
      "epoch 3, batch 10, loss 0.046070050448179245\n",
      "epoch 3, batch 11, loss 0.040088534355163574\n",
      "epoch 3, batch 12, loss 0.023256130516529083\n",
      "epoch 3, batch 13, loss 0.024946387857198715\n",
      "epoch:  3     train_loss:   0.026800537016242743    test_loss:     0.012549168989062309     accuracy:   0.9707998434702555\n",
      "epoch 4, batch 0, loss 0.05190035328269005\n",
      "epoch 4, batch 1, loss 0.050545498728752136\n",
      "epoch 4, batch 2, loss 0.03187258541584015\n",
      "epoch 4, batch 3, loss 0.04180070385336876\n",
      "epoch 4, batch 4, loss 0.044171590358018875\n",
      "epoch 4, batch 5, loss 0.03988579288125038\n",
      "epoch 4, batch 6, loss 0.021314887329936028\n",
      "epoch 4, batch 7, loss 0.024344705045223236\n",
      "epoch 4, batch 8, loss 0.03774019330739975\n",
      "epoch 4, batch 9, loss 0.04409822076559067\n",
      "epoch 4, batch 10, loss 0.02450997196137905\n",
      "epoch 4, batch 11, loss 0.026695597916841507\n",
      "epoch 4, batch 12, loss 0.025289194658398628\n",
      "epoch 4, batch 13, loss 0.04716740921139717\n",
      "epoch:  4     train_loss:   0.02556683523580432    test_loss:     0.008049674332141876     accuracy:   0.9833166003227234\n",
      "epoch 5, batch 0, loss 0.036023303866386414\n",
      "epoch 5, batch 1, loss 0.01603812165558338\n",
      "epoch 5, batch 2, loss 0.03402036055922508\n",
      "epoch 5, batch 3, loss 0.028250711038708687\n",
      "epoch 5, batch 4, loss 0.021833989769220352\n",
      "epoch 5, batch 5, loss 0.03923182934522629\n",
      "epoch 5, batch 6, loss 0.026586884632706642\n",
      "epoch 5, batch 7, loss 0.050289466977119446\n",
      "epoch 5, batch 8, loss 0.025398528203368187\n",
      "epoch 5, batch 9, loss 0.023510994389653206\n",
      "epoch 5, batch 10, loss 0.03616154566407204\n",
      "epoch 5, batch 11, loss 0.020765993744134903\n",
      "epoch 5, batch 12, loss 0.02303735539317131\n",
      "epoch 5, batch 13, loss 0.02452797070145607\n",
      "epoch:  5     train_loss:   0.0202838527970016    test_loss:     0.0093062536790967     accuracy:   0.9749581416447958\n",
      "epoch 6, batch 0, loss 0.01966140605509281\n",
      "epoch 6, batch 1, loss 0.032213516533374786\n",
      "epoch 6, batch 2, loss 0.03233364224433899\n",
      "epoch 6, batch 3, loss 0.01242442149668932\n",
      "epoch 6, batch 4, loss 0.021199535578489304\n",
      "epoch 6, batch 5, loss 0.024358754977583885\n",
      "epoch 6, batch 6, loss 0.023810233920812607\n",
      "epoch 6, batch 7, loss 0.02501503750681877\n",
      "epoch 6, batch 8, loss 0.01905767247080803\n",
      "epoch 6, batch 9, loss 0.030270585790276527\n",
      "epoch 6, batch 10, loss 0.022139236330986023\n",
      "epoch 6, batch 11, loss 0.027761638164520264\n",
      "epoch 6, batch 12, loss 0.039996400475502014\n",
      "epoch 6, batch 13, loss 0.011996599845588207\n",
      "epoch:  6     train_loss:   0.017111934069544078    test_loss:     0.009487417433410883     accuracy:   0.9733165899912516\n",
      "epoch 7, batch 0, loss 0.027308998629450798\n",
      "epoch 7, batch 1, loss 0.023224839940667152\n",
      "epoch 7, batch 2, loss 0.021970542147755623\n",
      "epoch 7, batch 3, loss 0.02693462185561657\n",
      "epoch 7, batch 4, loss 0.013971630483865738\n",
      "epoch 7, batch 5, loss 0.02311868965625763\n",
      "epoch 7, batch 6, loss 0.008986134082078934\n",
      "epoch 7, batch 7, loss 0.02387850731611252\n",
      "epoch 7, batch 8, loss 0.02608582004904747\n",
      "epoch 7, batch 9, loss 0.03323892503976822\n",
      "epoch 7, batch 10, loss 0.023506712168455124\n",
      "epoch 7, batch 11, loss 0.01861007884144783\n",
      "epoch 7, batch 12, loss 0.015449874103069305\n",
      "epoch 7, batch 13, loss 0.010891231708228588\n",
      "epoch:  7     train_loss:   0.014858830301091076    test_loss:     0.009931073524057865     accuracy:   0.9732914765675863\n",
      "epoch 8, batch 0, loss 0.025754062458872795\n",
      "epoch 8, batch 1, loss 0.018648041412234306\n",
      "epoch 8, batch 2, loss 0.013875487260520458\n",
      "epoch 8, batch 3, loss 0.027232622727751732\n",
      "epoch 8, batch 4, loss 0.025404540821909904\n",
      "epoch 8, batch 5, loss 0.015010974369943142\n",
      "epoch 8, batch 6, loss 0.015114005655050278\n",
      "epoch 8, batch 7, loss 0.02077319100499153\n",
      "epoch 8, batch 8, loss 0.027694785967469215\n",
      "epoch 8, batch 9, loss 0.021485431119799614\n",
      "epoch 8, batch 10, loss 0.013450727798044682\n",
      "epoch 8, batch 11, loss 0.025793245062232018\n",
      "epoch 8, batch 12, loss 0.02493315003812313\n",
      "epoch 8, batch 13, loss 0.042795710265636444\n",
      "epoch:  8     train_loss:   0.015898298798128964    test_loss:     0.008905918896198272     accuracy:   0.9807914694150289\n",
      "epoch 9, batch 0, loss 0.017667798325419426\n",
      "epoch 9, batch 1, loss 0.02755589969456196\n",
      "epoch 9, batch 2, loss 0.025800796225667\n",
      "epoch 9, batch 3, loss 0.048809073865413666\n",
      "epoch 9, batch 4, loss 0.02459387108683586\n",
      "epoch 9, batch 5, loss 0.023658564314246178\n",
      "epoch 9, batch 6, loss 0.018298955634236336\n",
      "epoch 9, batch 7, loss 0.013790683820843697\n",
      "epoch 9, batch 8, loss 0.014424809254705906\n",
      "epoch 9, batch 9, loss 0.012716562487185001\n",
      "epoch 9, batch 10, loss 0.029146570712327957\n",
      "epoch 9, batch 11, loss 0.015276881866157055\n",
      "epoch 9, batch 12, loss 0.030240654945373535\n",
      "epoch 9, batch 13, loss 0.03526236489415169\n",
      "epoch:  9     train_loss:   0.016862174356356265    test_loss:     0.00997676569968462     accuracy:   0.975783089796702\n"
     ]
    }
   ],
   "source": [
    "optimizer= optim.Adam(model.classifier.parameters())\n",
    "criterian= nn.NLLLoss()\n",
    "list_train_loss=[]\n",
    "list_test_loss=[]\n",
    "\n",
    "for epoch in range(10):\n",
    "    train_loss= 0\n",
    "    test_loss= 0\n",
    "    for bat,(img,label) in enumerate(train_loader):\n",
    "        \n",
    "        # moving batch and lables to gpu\n",
    "        img = img.to('cuda:0')\n",
    "        label = label.to('cuda:0')\n",
    "        \n",
    "        model.train()\n",
    "        optimizer.zero_grad()\n",
    "\n",
    "        output = model(img)\n",
    "        loss = criterian(output,label)\n",
    "        loss.backward()\n",
    "        optimizer.step()\n",
    "        train_loss = train_loss+loss.item()\n",
    "        print('epoch {}, batch {}, loss {}'.format(epoch, bat, loss.item()))\n",
    "\n",
    "    accuracy=0\n",
    "    with torch.no_grad():\n",
    "        for bat,(img,label) in enumerate(test_loader):\n",
    "            img = img.to('cuda:0')\n",
    "            label = label.to('cuda:0')\n",
    "\n",
    "            model.eval()\n",
    "            logps= model(img)\n",
    "            loss = criterian(logps,label)\n",
    "\n",
    "            test_loss+= loss.item()\n",
    "            ps=torch.exp(logps)\n",
    "            top_ps,top_class=ps.topk(1,dim=1)\n",
    "            equality=top_class == label.view(*top_class.shape)\n",
    "            accuracy +=torch.mean(equality.type(torch.FloatTensor)).item()\n",
    "        \n",
    "\n",
    "    list_train_loss.append(train_loss/20)\n",
    "    list_test_loss.append(test_loss/20)\n",
    "    print('epoch: ',epoch,'    train_loss:  ',train_loss/20,'   test_loss:    ',test_loss/20,'    accuracy:  ',accuracy/len(test_loader))"
   ]
  },
  {
   "cell_type": "markdown",
   "metadata": {},
   "source": [
    "**cats/dogs == 1/3**"
   ]
  },
  {
   "cell_type": "code",
   "execution_count": 6,
   "metadata": {
    "ExecuteTime": {
     "end_time": "2020-06-03T01:19:38.436140Z",
     "start_time": "2020-06-03T01:19:38.424968Z"
    }
   },
   "outputs": [],
   "source": [
    "data_root = '/home/hezhang/workspace/cvpr/data/training_set/'\n",
    "def generateTrainloader(sampling='Under'):\n",
    "    temp_root = '/home/hezhang/workspace/cvpr/data/training_set/temp_set/'\n",
    "    try:\n",
    "        shutil.rmtree(temp_root+'dogs')\n",
    "        shutil.rmtree(temp_root+'cats')\n",
    "    except:\n",
    "        pass\n",
    "    if sampling == 'Under':\n",
    "        if not os.path.exists(temp_root+'dogs'):\n",
    "            os.mkdir(temp_root+'dogs')\n",
    "        ## sampling 1/3 of dogs\n",
    "        dogs_list = os.listdir(data_root+'unbalance_set/dogs')\n",
    "        interest_dogs = random.sample(dogs_list, int(len(dogs_list)/3)) \n",
    "        for item in interest_dogs:\n",
    "            raw_file = data_root + 'unbalance_set/dogs/' + item\n",
    "            target_file = data_root + 'temp_set/dogs/' + item\n",
    "            shutil.copy(raw_file, target_file)\n",
    "        shutil.copytree(data_root+'unbalance_set/cats/', data_root + 'temp_set/cats/')\n",
    "    if sampling == 'Over':\n",
    "        if not os.path.exists(temp_root+'cats'):\n",
    "            os.mkdir(temp_root+'cats')\n",
    "        ## sampling 3/1 of cats\n",
    "        cats_list = os.listdir(data_root+'unbalance_set/cats')\n",
    "        interest_cats = random.choices(cats_list, k=int(len(cats_list)*3)) \n",
    "        index = 0\n",
    "        for item in interest_cats:\n",
    "            raw_file = data_root + 'unbalance_set/cats/' + item\n",
    "            target_file = data_root + 'temp_set/cats/' + item\n",
    "            if (os.path.exists(target_file)) & (target_file[-4:]=='.jpg'):\n",
    "                target_file = target_file[:-4] + '_' + str(index) + '.jpg'\n",
    "                index += 1\n",
    "            shutil.copy(raw_file, target_file)\n",
    "        shutil.copytree(data_root+'unbalance_set/dogs/', data_root + 'temp_set/dogs/')\n",
    "    \n",
    "    train_data_dir = '/home/hezhang/workspace/cvpr/data/training_set/temp_set'\n",
    "\n",
    "    transform = transforms.Compose([transforms.Resize(255),\n",
    "                                    transforms.CenterCrop(224),\n",
    "                                    transforms.ToTensor()])\n",
    "\n",
    "    dataset = torchvision.datasets.ImageFolder(train_data_dir, transform= transform)\n",
    "    train_loader = torch.utils.data.DataLoader(dataset, batch_size=400 ,shuffle=True)\n",
    "    \n",
    "    num_cat = 0\n",
    "    num_dog = 0\n",
    "    for item in dataset.imgs:\n",
    "        if item[1] == 0:\n",
    "            num_cat += 1\n",
    "        else:\n",
    "            num_dog += 1\n",
    "    print('generated dataset:\\nthere are {} cats,\\n{} dogs'.format(num_cat, num_dog))\n",
    "    \n",
    "    return train_loader\n",
    "\n",
    "# test_train_loader = generateTrainloader(sampling='Over')   "
   ]
  },
  {
   "cell_type": "code",
   "execution_count": 7,
   "metadata": {
    "ExecuteTime": {
     "end_time": "2020-06-03T01:32:52.291991Z",
     "start_time": "2020-06-03T01:19:42.956431Z"
    },
    "collapsed": true
   },
   "outputs": [
    {
     "name": "stdout",
     "output_type": "stream",
     "text": [
      "generated dataset:\n",
      "there are 3999 cats,\n",
      "4005 dogs\n",
      "epoch 0, batch 0, loss 0.7282808423042297\n",
      "epoch 0, batch 1, loss 0.4321647882461548\n",
      "epoch 0, batch 2, loss 0.33393216133117676\n",
      "epoch 0, batch 3, loss 0.20579876005649567\n",
      "epoch 0, batch 4, loss 0.15974083542823792\n",
      "epoch 0, batch 5, loss 0.1469864845275879\n",
      "epoch 0, batch 6, loss 0.10152167081832886\n",
      "epoch 0, batch 7, loss 0.0975063294172287\n",
      "epoch 0, batch 8, loss 0.0881163701415062\n",
      "epoch 0, batch 9, loss 0.09287669509649277\n",
      "epoch 0, batch 10, loss 0.05566361919045448\n",
      "epoch 0, batch 11, loss 0.05606697499752045\n",
      "epoch 0, batch 12, loss 0.07271978259086609\n",
      "epoch 0, batch 13, loss 0.09889993071556091\n",
      "epoch 0, batch 14, loss 0.07419822365045547\n",
      "epoch 0, batch 15, loss 0.06892852485179901\n",
      "epoch 0, batch 16, loss 0.10011088103055954\n",
      "epoch 0, batch 17, loss 0.07310625165700912\n",
      "epoch 0, batch 18, loss 0.08831054717302322\n",
      "epoch 0, batch 19, loss 0.03414702042937279\n",
      "epoch 0, batch 20, loss 0.6262201070785522\n",
      "epoch:  0     train_loss:   0.18676484003663063    test_loss:     0.011732599139213562     accuracy:   0.9749497572580973\n",
      "generated dataset:\n",
      "there are 3996 cats,\n",
      "4005 dogs\n",
      "epoch 1, batch 0, loss 0.04270068183541298\n",
      "epoch 1, batch 1, loss 0.07497917860746384\n",
      "epoch 1, batch 2, loss 0.20677928626537323\n",
      "epoch 1, batch 3, loss 0.19810010492801666\n",
      "epoch 1, batch 4, loss 0.09639645367860794\n",
      "epoch 1, batch 5, loss 0.08446015417575836\n",
      "epoch 1, batch 18, loss 0.032527633011341095\n",
      "epoch 1, batch 19, loss 0.04265680909156799\n",
      "epoch 1, batch 20, loss 0.2513810396194458\n",
      "epoch:  1     train_loss:   0.08871503733098507    test_loss:     0.024992362409830094     accuracy:   0.9373995065689087\n",
      "generated dataset:\n",
      "there are 3996 cats,\n",
      "4005 dogs\n",
      "epoch 2, batch 0, loss 0.16937273740768433\n",
      "epoch 2, batch 1, loss 0.3260335922241211\n",
      "epoch 2, batch 2, loss 0.24198193848133087\n",
      "epoch 2, batch 3, loss 0.326171338558197\n",
      "epoch 2, batch 4, loss 0.10629409551620483\n",
      "epoch 2, batch 5, loss 0.045824602246284485\n",
      "epoch 2, batch 6, loss 0.06784872710704803\n",
      "epoch 2, batch 7, loss 0.07051341980695724\n",
      "epoch 2, batch 8, loss 0.15468482673168182\n",
      "epoch 2, batch 9, loss 0.13178887963294983\n",
      "epoch 2, batch 10, loss 0.1290954053401947\n",
      "epoch 2, batch 11, loss 0.17499278485774994\n",
      "epoch 2, batch 12, loss 0.09852729737758636\n",
      "epoch 2, batch 13, loss 0.04696448892354965\n",
      "epoch 2, batch 14, loss 0.04803938791155815\n",
      "epoch 2, batch 15, loss 0.02792608179152012\n",
      "epoch 2, batch 16, loss 0.041169047355651855\n",
      "epoch 2, batch 17, loss 0.08353256434202194\n",
      "epoch 2, batch 18, loss 0.09039883315563202\n",
      "epoch 2, batch 19, loss 0.08343838900327682\n",
      "epoch 2, batch 20, loss 0.04552769660949707\n",
      "epoch:  2     train_loss:   0.1255063067190349    test_loss:     0.010186032950878143     accuracy:   0.972466508547465\n",
      "generated dataset:\n",
      "there are 3998 cats,\n",
      "4005 dogs\n",
      "epoch 3, batch 0, loss 0.10566180944442749\n",
      "epoch 3, batch 1, loss 0.04712918400764465\n",
      "epoch 3, batch 2, loss 0.038947753608226776\n",
      "epoch 3, batch 3, loss 0.03252728655934334\n",
      "epoch 3, batch 4, loss 0.05085774511098862\n",
      "epoch 3, batch 5, loss 0.011897270567715168\n",
      "epoch 3, batch 6, loss 0.037823636084795\n",
      "epoch 3, batch 7, loss 0.029618626460433006\n",
      "epoch 3, batch 8, loss 0.03293290734291077\n",
      "epoch 3, batch 9, loss 0.05583321675658226\n",
      "epoch 3, batch 10, loss 0.08827821910381317\n",
      "epoch 3, batch 11, loss 0.05415166914463043\n",
      "epoch 3, batch 12, loss 0.034158919006586075\n",
      "epoch 3, batch 13, loss 0.0489528626203537\n",
      "epoch 3, batch 14, loss 0.033788423985242844\n",
      "epoch 3, batch 15, loss 0.029107743874192238\n",
      "epoch 3, batch 16, loss 0.037419937551021576\n",
      "epoch 3, batch 17, loss 0.0461144782602787\n",
      "epoch 3, batch 18, loss 0.0491894967854023\n",
      "epoch 3, batch 19, loss 0.06654215604066849\n",
      "epoch 3, batch 20, loss 0.0077586970292031765\n",
      "epoch:  3     train_loss:   0.04693460196722299    test_loss:     0.009552701748907566     accuracy:   0.9749581416447958\n",
      "generated dataset:\n",
      "there are 3996 cats,\n",
      "4005 dogs\n",
      "epoch 4, batch 0, loss 0.057614196091890335\n",
      "epoch 4, batch 1, loss 0.046740733087062836\n",
      "epoch 4, batch 2, loss 0.042507462203502655\n",
      "epoch 4, batch 3, loss 0.027005519717931747\n",
      "epoch 4, batch 4, loss 0.04284440353512764\n",
      "epoch 4, batch 5, loss 0.03058759681880474\n",
      "epoch 4, batch 6, loss 0.05582347884774208\n",
      "epoch 4, batch 7, loss 0.01857271045446396\n",
      "epoch 4, batch 8, loss 0.01430540718138218\n",
      "epoch 4, batch 9, loss 0.021990759298205376\n",
      "epoch 4, batch 10, loss 0.030639953911304474\n",
      "epoch 4, batch 11, loss 0.042075663805007935\n",
      "epoch 4, batch 12, loss 0.025441154837608337\n",
      "epoch 4, batch 13, loss 0.02958156354725361\n",
      "epoch 4, batch 14, loss 0.042314302176237106\n",
      "epoch 4, batch 15, loss 0.04072490707039833\n",
      "epoch 4, batch 16, loss 0.047109633684158325\n",
      "epoch 4, batch 17, loss 0.030789673328399658\n",
      "epoch 4, batch 18, loss 0.03827160969376564\n",
      "epoch 4, batch 19, loss 0.01583036594092846\n",
      "epoch 4, batch 20, loss 0.3841114640235901\n",
      "epoch:  4     train_loss:   0.054244127962738274    test_loss:     0.02118103876709938     accuracy:   0.9515745242436727\n"
     ]
    }
   ],
   "source": [
    "def train(model, optimizer, criterian, flag):\n",
    "    list_train_loss=[]\n",
    "    list_test_loss=[]\n",
    "    train_loader = generateTrainloader(sampling='Over')\n",
    "    for epoch in range(5):\n",
    "        train_loss= 0\n",
    "        test_loss= 0\n",
    "        for bat,(img,label) in enumerate(train_loader):\n",
    "            # moving batch and lables to gpu\n",
    "            img = img.to('cuda:0')\n",
    "            label = label.to('cuda:0')\n",
    "\n",
    "            model.train()\n",
    "            optimizer.zero_grad()\n",
    "\n",
    "            output = model(img)\n",
    "            loss = criterian(output,label)\n",
    "            loss.backward()\n",
    "            optimizer.step()\n",
    "            train_loss = train_loss+loss.item()\n",
    "            print('epoch {}, batch {}, loss {}'.format(epoch, bat, loss.item()))\n",
    "\n",
    "        accuracy=0\n",
    "        with torch.no_grad():\n",
    "            for bat,(img,label) in enumerate(test_loader):\n",
    "                img = img.to('cuda:0')\n",
    "                label = label.to('cuda:0')\n",
    "\n",
    "                model.eval()\n",
    "                logps= model(img)\n",
    "                loss = criterian(logps,label)\n",
    "\n",
    "                test_loss+= loss.item()\n",
    "                ps=torch.exp(logps)\n",
    "                top_ps,top_class=ps.topk(1,dim=1)\n",
    "                equality=top_class == label.view(*top_class.shape)\n",
    "                accuracy +=torch.mean(equality.type(torch.FloatTensor)).item()\n",
    "\n",
    "\n",
    "        list_train_loss.append(train_loss/20)\n",
    "        list_test_loss.append(test_loss/20)\n",
    "        print('epoch: ',epoch,'    train_loss:  ',train_loss/20,'   test_loss:    ',test_loss/20,'    accuracy:  ',accuracy/len(test_loader))\n",
    "\n",
    "    torch.save(model.state_dict(), 'output/'+ flag + '.pkl')  \n",
    "\n",
    "model = models.densenet121(pretrained = True)\n",
    "for params in model.parameters():\n",
    "    params.requires_grad = False\n",
    "    \n",
    "classifier = nn.Sequential(OrderedDict([\n",
    "    ('fc1',nn.Linear(1024,500)),\n",
    "    ('relu',nn.ReLU()),\n",
    "    ('fc2',nn.Linear(500,2)),\n",
    "    ('Output',nn.LogSoftmax(dim=1))\n",
    "]))\n",
    "\n",
    "model.classifier = classifier\n",
    "model = model.cuda()\n",
    "optimizer= optim.Adam(model.classifier.parameters())\n",
    "# class_weights = torch.Tensor([1.5, 0.5]).cuda() \n",
    "# criterian= nn.NLLLoss(weight=class_weights)\n",
    "criterian= nn.NLLLoss()\n",
    "train(model, optimizer, criterian, flag='oversampling')"
   ]
  },
  {
   "cell_type": "markdown",
   "metadata": {},
   "source": [
    "save weights"
   ]
  },
  {
   "cell_type": "code",
   "execution_count": 14,
   "metadata": {
    "ExecuteTime": {
     "end_time": "2020-06-02T14:05:56.211212Z",
     "start_time": "2020-06-02T14:05:56.016823Z"
    }
   },
   "outputs": [],
   "source": [
    "torch.save(model.state_dict(), 'output/10_epoch_base.pkl')"
   ]
  },
  {
   "cell_type": "markdown",
   "metadata": {},
   "source": [
    "# result"
   ]
  },
  {
   "cell_type": "markdown",
   "metadata": {},
   "source": [
    "* baseline: 10 epochs, 97.50%\n",
    "* weighted loss: 10 epoches, 98.50%\n",
    "* undersampling: 10 epoches, 97.91%\n",
    "* oversampling: 10 epoches, 95.16%"
   ]
  },
  {
   "cell_type": "markdown",
   "metadata": {},
   "source": [
    "## Resnet"
   ]
  },
  {
   "cell_type": "code",
   "execution_count": 5,
   "metadata": {
    "ExecuteTime": {
     "end_time": "2020-06-03T06:01:26.209468Z",
     "start_time": "2020-06-03T06:01:26.163421Z"
    }
   },
   "outputs": [],
   "source": [
    "batch_size = 40\n",
    "train_data_dir = '/home/hezhang/workspace/cvpr/data/training_set/unbalance_set'\n",
    "test_data_dir = '/home/hezhang/workspace/cvpr/data/test_set/new_test_set'\n",
    "transform = transforms.Compose([transforms.Resize(65),\n",
    "                                transforms.CenterCrop(64),\n",
    "                                transforms.ToTensor()])\n",
    "\n",
    "dataset = torchvision.datasets.ImageFolder(train_data_dir, transform= transform)\n",
    "train_loader = torch.utils.data.DataLoader(dataset, batch_size=batch_size, shuffle=True)\n",
    "\n",
    "test_dataset = torchvision.datasets.ImageFolder(test_data_dir, transform= transform)\n",
    "test_loader = torch.utils.data.DataLoader(test_dataset, batch_size=batch_size, shuffle=True)"
   ]
  },
  {
   "cell_type": "code",
   "execution_count": 6,
   "metadata": {
    "ExecuteTime": {
     "end_time": "2020-06-03T06:01:28.155741Z",
     "start_time": "2020-06-03T06:01:28.127052Z"
    },
    "code_folding": [
     0,
     29
    ]
   },
   "outputs": [],
   "source": [
    "class ResidualBlock(nn.Module):\n",
    "    \n",
    "    def __init__(self,in_channels,out_channels,stride=1,kernel_size=3,padding=1,bias=False):\n",
    "        super().__init__()\n",
    "        self.conv1 = nn.Sequential(\n",
    "            nn.Conv2d(in_channels,out_channels,kernel_size,stride,padding,bias=False),\n",
    "            nn.BatchNorm2d(out_channels),\n",
    "            nn.ReLU(inplace=True),\n",
    "        )\n",
    "        self.conv2 = nn.Sequential(\n",
    "            nn.Conv2d(out_channels,out_channels,kernel_size,1,padding,bias=False),\n",
    "            nn.BatchNorm2d(out_channels),\n",
    "        )\n",
    "\n",
    "        if stride!=1 or in_channels != out_channels:\n",
    "            self.shortcut = nn.Sequential(\n",
    "                nn.Conv2d(in_channels,out_channels,kernel_size=1,stride = stride,bias=False),\n",
    "                nn.BatchNorm2d(out_channels))\n",
    "        else:\n",
    "            self.shortcut = nn.Sequential()\n",
    "\n",
    "    def forward(self,x):\n",
    "        residual = x\n",
    "        x = self.conv1(x)\n",
    "        x = self.conv2(x)\n",
    "        x += self.shortcut(residual)\n",
    "        x = nn.ReLU(inplace=True)(x)\n",
    "        return x\n",
    "        \n",
    "class ResNet34(nn.Module):\n",
    "    def __init__(self,n_classes):\n",
    "        super().__init__()\n",
    "        \n",
    "        self.block1 = nn.Sequential(\n",
    "            nn.Conv2d(3,64,7,2,3,bias=False),\n",
    "            nn.BatchNorm2d(64),\n",
    "            nn.ReLU(inplace=True)\n",
    "        )\n",
    "        self.block2 = nn.Sequential(\n",
    "            nn.MaxPool2d(3,2),\n",
    "            ResidualBlock(64,64,1),\n",
    "            ResidualBlock(64,64,1),\n",
    "            ResidualBlock(64,64,1)\n",
    "        )\n",
    "        self.block3 = nn.Sequential(\n",
    "            ResidualBlock(64,128,1),\n",
    "            ResidualBlock(128,128,1),\n",
    "            ResidualBlock(128,128,1),\n",
    "            ResidualBlock(128,128,2)\n",
    "        )\n",
    "#         self.block4 = nn.Sequential(\n",
    "#             ResidualBlock(128,256,1),\n",
    "#             ResidualBlock(256,256,1),\n",
    "#             ResidualBlock(256,256,2)\n",
    "#         )\n",
    "        \n",
    "        self.block4 = nn.Sequential(\n",
    "            ResidualBlock(128,256,1),\n",
    "            ResidualBlock(256,256,1),\n",
    "            ResidualBlock(256,256,1),\n",
    "            ResidualBlock(256,256,1),\n",
    "            ResidualBlock(256,256,1),\n",
    "            ResidualBlock(256,256,2)\n",
    "        )\n",
    "        self.block5 = nn.Sequential(\n",
    "            ResidualBlock(256,512,1),\n",
    "            ResidualBlock(512,512,1),\n",
    "            ResidualBlock(512,512,2)\n",
    "        )\n",
    "        self.avgpool = nn.AvgPool2d(2)\n",
    "        self.fc = nn.Linear(512,n_classes)\n",
    "#         self.fc = nn.Linear(256,n_classes) ## new add\n",
    "\n",
    "        \n",
    "    def forward(self,x):\n",
    "        x = self.block1(x)\n",
    "        x = self.block2(x)\n",
    "        x = self.block3(x)\n",
    "        x = self.block4(x)\n",
    "        x = self.block5(x)\n",
    "        x = self.avgpool(x)\n",
    "        x = x.view(x.size(0),-1)\n",
    "        x = self.fc(x)\n",
    "        \n",
    "        return x\n",
    "            "
   ]
  },
  {
   "cell_type": "code",
   "execution_count": 17,
   "metadata": {
    "ExecuteTime": {
     "end_time": "2020-06-03T02:57:37.877035Z",
     "start_time": "2020-06-03T02:33:51.376150Z"
    },
    "scrolled": true
   },
   "outputs": [
    {
     "name": "stdout",
     "output_type": "stream",
     "text": [
      "epochs 1/20 \n"
     ]
    },
    {
     "name": "stderr",
     "output_type": "stream",
     "text": [
      "/home/hezhang/anaconda3/lib/python3.7/site-packages/ipykernel_launcher.py:16: TqdmDeprecationWarning: This function will be removed in tqdm==5.0.0\n",
      "Please use `tqdm.notebook.tqdm` instead of `tqdm.tqdm_notebook`\n",
      "  app.launch_new_instance()\n"
     ]
    },
    {
     "data": {
      "application/vnd.jupyter.widget-view+json": {
       "model_id": "5090d7f0a8a24cbeb186159d4054dc1a",
       "version_major": 2,
       "version_minor": 0
      },
      "text/plain": [
       "HBox(children=(FloatProgress(value=0.0, max=134.0), HTML(value='')))"
      ]
     },
     "metadata": {},
     "output_type": "display_data"
    },
    {
     "name": "stdout",
     "output_type": "stream",
     "text": [
      "\n"
     ]
    },
    {
     "name": "stderr",
     "output_type": "stream",
     "text": [
      "/home/hezhang/anaconda3/lib/python3.7/site-packages/ipykernel_launcher.py:33: TqdmDeprecationWarning: This function will be removed in tqdm==5.0.0\n",
      "Please use `tqdm.notebook.tqdm` instead of `tqdm.tqdm_notebook`\n"
     ]
    },
    {
     "data": {
      "application/vnd.jupyter.widget-view+json": {
       "model_id": "2d51726563db421ca9a01910fdc2cee4",
       "version_major": 2,
       "version_minor": 0
      },
      "text/plain": [
       "HBox(children=(FloatProgress(value=0.0, max=25.0), HTML(value='')))"
      ]
     },
     "metadata": {},
     "output_type": "display_data"
    },
    {
     "name": "stdout",
     "output_type": "stream",
     "text": [
      "\n",
      "traing_acc : 0.74%\n",
      "loss : 0.5618\n",
      "test_acc : 0.60%\n",
      "epochs 2/20 \n"
     ]
    },
    {
     "data": {
      "application/vnd.jupyter.widget-view+json": {
       "model_id": "e19cd660151e4a318ce3aa26f5415c27",
       "version_major": 2,
       "version_minor": 0
      },
      "text/plain": [
       "HBox(children=(FloatProgress(value=0.0, max=134.0), HTML(value='')))"
      ]
     },
     "metadata": {},
     "output_type": "display_data"
    },
    {
     "name": "stdout",
     "output_type": "stream",
     "text": [
      "\n"
     ]
    },
    {
     "data": {
      "application/vnd.jupyter.widget-view+json": {
       "model_id": "aa1ef08e5f4a42818f7145439de33853",
       "version_major": 2,
       "version_minor": 0
      },
      "text/plain": [
       "HBox(children=(FloatProgress(value=0.0, max=25.0), HTML(value='')))"
      ]
     },
     "metadata": {},
     "output_type": "display_data"
    },
    {
     "name": "stdout",
     "output_type": "stream",
     "text": [
      "\n",
      "traing_acc : 0.75%\n",
      "loss : 0.5124\n",
      "test_acc : 0.61%\n",
      "epochs 3/20 \n"
     ]
    },
    {
     "data": {
      "application/vnd.jupyter.widget-view+json": {
       "model_id": "3b1318f823564167b812d1aa877d4f32",
       "version_major": 2,
       "version_minor": 0
      },
      "text/plain": [
       "HBox(children=(FloatProgress(value=0.0, max=134.0), HTML(value='')))"
      ]
     },
     "metadata": {},
     "output_type": "display_data"
    },
    {
     "name": "stdout",
     "output_type": "stream",
     "text": [
      "\n"
     ]
    },
    {
     "data": {
      "application/vnd.jupyter.widget-view+json": {
       "model_id": "67427263e0c14e8c950e03446eb4a8c3",
       "version_major": 2,
       "version_minor": 0
      },
      "text/plain": [
       "HBox(children=(FloatProgress(value=0.0, max=25.0), HTML(value='')))"
      ]
     },
     "metadata": {},
     "output_type": "display_data"
    },
    {
     "name": "stdout",
     "output_type": "stream",
     "text": [
      "\n",
      "traing_acc : 0.76%\n",
      "loss : 0.4900\n",
      "test_acc : 0.68%\n",
      "epochs 4/20 \n"
     ]
    },
    {
     "data": {
      "application/vnd.jupyter.widget-view+json": {
       "model_id": "db731811756d4e3597da1657f5f7d13d",
       "version_major": 2,
       "version_minor": 0
      },
      "text/plain": [
       "HBox(children=(FloatProgress(value=0.0, max=134.0), HTML(value='')))"
      ]
     },
     "metadata": {},
     "output_type": "display_data"
    },
    {
     "name": "stdout",
     "output_type": "stream",
     "text": [
      "\n"
     ]
    },
    {
     "data": {
      "application/vnd.jupyter.widget-view+json": {
       "model_id": "a3eee02c684c4afb995993a001dfb492",
       "version_major": 2,
       "version_minor": 0
      },
      "text/plain": [
       "HBox(children=(FloatProgress(value=0.0, max=25.0), HTML(value='')))"
      ]
     },
     "metadata": {},
     "output_type": "display_data"
    },
    {
     "name": "stdout",
     "output_type": "stream",
     "text": [
      "\n",
      "traing_acc : 0.79%\n",
      "loss : 0.4661\n",
      "test_acc : 0.59%\n",
      "epochs 5/20 \n"
     ]
    },
    {
     "data": {
      "application/vnd.jupyter.widget-view+json": {
       "model_id": "5d580a2f9a184ddba75955317fd0d04f",
       "version_major": 2,
       "version_minor": 0
      },
      "text/plain": [
       "HBox(children=(FloatProgress(value=0.0, max=134.0), HTML(value='')))"
      ]
     },
     "metadata": {},
     "output_type": "display_data"
    },
    {
     "name": "stdout",
     "output_type": "stream",
     "text": [
      "\n"
     ]
    },
    {
     "data": {
      "application/vnd.jupyter.widget-view+json": {
       "model_id": "8846f84034cc4a7689b1fa765be0190f",
       "version_major": 2,
       "version_minor": 0
      },
      "text/plain": [
       "HBox(children=(FloatProgress(value=0.0, max=25.0), HTML(value='')))"
      ]
     },
     "metadata": {},
     "output_type": "display_data"
    },
    {
     "name": "stdout",
     "output_type": "stream",
     "text": [
      "\n",
      "traing_acc : 0.78%\n",
      "loss : 0.4619\n",
      "test_acc : 0.64%\n",
      "epochs 6/20 \n"
     ]
    },
    {
     "data": {
      "application/vnd.jupyter.widget-view+json": {
       "model_id": "cd89bc4349ee49938da84425fa8763c8",
       "version_major": 2,
       "version_minor": 0
      },
      "text/plain": [
       "HBox(children=(FloatProgress(value=0.0, max=134.0), HTML(value='')))"
      ]
     },
     "metadata": {},
     "output_type": "display_data"
    },
    {
     "name": "stdout",
     "output_type": "stream",
     "text": [
      "\n"
     ]
    },
    {
     "data": {
      "application/vnd.jupyter.widget-view+json": {
       "model_id": "8e2dceba0b404ad6b2d6a212852d613c",
       "version_major": 2,
       "version_minor": 0
      },
      "text/plain": [
       "HBox(children=(FloatProgress(value=0.0, max=25.0), HTML(value='')))"
      ]
     },
     "metadata": {},
     "output_type": "display_data"
    },
    {
     "name": "stdout",
     "output_type": "stream",
     "text": [
      "\n",
      "traing_acc : 0.80%\n",
      "loss : 0.4318\n",
      "test_acc : 0.66%\n",
      "epochs 7/20 \n"
     ]
    },
    {
     "data": {
      "application/vnd.jupyter.widget-view+json": {
       "model_id": "e707e80465714fcf8aed65023cd535ff",
       "version_major": 2,
       "version_minor": 0
      },
      "text/plain": [
       "HBox(children=(FloatProgress(value=0.0, max=134.0), HTML(value='')))"
      ]
     },
     "metadata": {},
     "output_type": "display_data"
    },
    {
     "name": "stdout",
     "output_type": "stream",
     "text": [
      "\n"
     ]
    },
    {
     "data": {
      "application/vnd.jupyter.widget-view+json": {
       "model_id": "66ec6ee1b1d54f0f82cdd0c5e70b3706",
       "version_major": 2,
       "version_minor": 0
      },
      "text/plain": [
       "HBox(children=(FloatProgress(value=0.0, max=25.0), HTML(value='')))"
      ]
     },
     "metadata": {},
     "output_type": "display_data"
    },
    {
     "name": "stdout",
     "output_type": "stream",
     "text": [
      "\n",
      "traing_acc : 0.82%\n",
      "loss : 0.4052\n",
      "test_acc : 0.62%\n",
      "epochs 8/20 \n"
     ]
    },
    {
     "data": {
      "application/vnd.jupyter.widget-view+json": {
       "model_id": "8632482258d74c8c89205b5de8e64e03",
       "version_major": 2,
       "version_minor": 0
      },
      "text/plain": [
       "HBox(children=(FloatProgress(value=0.0, max=134.0), HTML(value='')))"
      ]
     },
     "metadata": {},
     "output_type": "display_data"
    },
    {
     "name": "stdout",
     "output_type": "stream",
     "text": [
      "\n"
     ]
    },
    {
     "data": {
      "application/vnd.jupyter.widget-view+json": {
       "model_id": "7d51182657e64189974fdbdb8d3bc9cc",
       "version_major": 2,
       "version_minor": 0
      },
      "text/plain": [
       "HBox(children=(FloatProgress(value=0.0, max=25.0), HTML(value='')))"
      ]
     },
     "metadata": {},
     "output_type": "display_data"
    },
    {
     "name": "stdout",
     "output_type": "stream",
     "text": [
      "\n",
      "traing_acc : 0.82%\n",
      "loss : 0.3924\n",
      "test_acc : 0.53%\n",
      "epochs 9/20 \n"
     ]
    },
    {
     "data": {
      "application/vnd.jupyter.widget-view+json": {
       "model_id": "28f8d6986ba2479d88d1dbf5a4dfdce5",
       "version_major": 2,
       "version_minor": 0
      },
      "text/plain": [
       "HBox(children=(FloatProgress(value=0.0, max=134.0), HTML(value='')))"
      ]
     },
     "metadata": {},
     "output_type": "display_data"
    },
    {
     "name": "stdout",
     "output_type": "stream",
     "text": [
      "\n"
     ]
    },
    {
     "data": {
      "application/vnd.jupyter.widget-view+json": {
       "model_id": "7eeca2c2193641d59139c1e5149016fa",
       "version_major": 2,
       "version_minor": 0
      },
      "text/plain": [
       "HBox(children=(FloatProgress(value=0.0, max=25.0), HTML(value='')))"
      ]
     },
     "metadata": {},
     "output_type": "display_data"
    },
    {
     "name": "stdout",
     "output_type": "stream",
     "text": [
      "\n",
      "traing_acc : 0.84%\n",
      "loss : 0.3675\n",
      "test_acc : 0.69%\n",
      "epochs 10/20 \n"
     ]
    },
    {
     "data": {
      "application/vnd.jupyter.widget-view+json": {
       "model_id": "f84167d6ea4f40488f630b0f6174a874",
       "version_major": 2,
       "version_minor": 0
      },
      "text/plain": [
       "HBox(children=(FloatProgress(value=0.0, max=134.0), HTML(value='')))"
      ]
     },
     "metadata": {},
     "output_type": "display_data"
    },
    {
     "name": "stdout",
     "output_type": "stream",
     "text": [
      "\n"
     ]
    },
    {
     "data": {
      "application/vnd.jupyter.widget-view+json": {
       "model_id": "77db1836f1724229b3303d5f98fb9ee1",
       "version_major": 2,
       "version_minor": 0
      },
      "text/plain": [
       "HBox(children=(FloatProgress(value=0.0, max=25.0), HTML(value='')))"
      ]
     },
     "metadata": {},
     "output_type": "display_data"
    },
    {
     "name": "stdout",
     "output_type": "stream",
     "text": [
      "\n",
      "traing_acc : 0.85%\n",
      "loss : 0.3439\n",
      "test_acc : 0.76%\n",
      "epochs 11/20 \n"
     ]
    },
    {
     "data": {
      "application/vnd.jupyter.widget-view+json": {
       "model_id": "23881c0cc0944338966f4d99b1f4d813",
       "version_major": 2,
       "version_minor": 0
      },
      "text/plain": [
       "HBox(children=(FloatProgress(value=0.0, max=134.0), HTML(value='')))"
      ]
     },
     "metadata": {},
     "output_type": "display_data"
    },
    {
     "name": "stdout",
     "output_type": "stream",
     "text": [
      "\n"
     ]
    },
    {
     "data": {
      "application/vnd.jupyter.widget-view+json": {
       "model_id": "12ccb193beb6422bb6c6f8a5d32260e2",
       "version_major": 2,
       "version_minor": 0
      },
      "text/plain": [
       "HBox(children=(FloatProgress(value=0.0, max=25.0), HTML(value='')))"
      ]
     },
     "metadata": {},
     "output_type": "display_data"
    },
    {
     "name": "stdout",
     "output_type": "stream",
     "text": [
      "\n",
      "traing_acc : 0.86%\n",
      "loss : 0.3239\n",
      "test_acc : 0.65%\n",
      "epochs 12/20 \n"
     ]
    },
    {
     "data": {
      "application/vnd.jupyter.widget-view+json": {
       "model_id": "290ea39dbc0f4a70b4b54599a0f744a3",
       "version_major": 2,
       "version_minor": 0
      },
      "text/plain": [
       "HBox(children=(FloatProgress(value=0.0, max=134.0), HTML(value='')))"
      ]
     },
     "metadata": {},
     "output_type": "display_data"
    },
    {
     "name": "stdout",
     "output_type": "stream",
     "text": [
      "\n"
     ]
    },
    {
     "data": {
      "application/vnd.jupyter.widget-view+json": {
       "model_id": "cfab9a9a78f648e29c1d94a8783708d6",
       "version_major": 2,
       "version_minor": 0
      },
      "text/plain": [
       "HBox(children=(FloatProgress(value=0.0, max=25.0), HTML(value='')))"
      ]
     },
     "metadata": {},
     "output_type": "display_data"
    },
    {
     "name": "stdout",
     "output_type": "stream",
     "text": [
      "\n",
      "traing_acc : 0.87%\n",
      "loss : 0.3055\n",
      "test_acc : 0.75%\n",
      "epochs 13/20 \n"
     ]
    },
    {
     "data": {
      "application/vnd.jupyter.widget-view+json": {
       "model_id": "4246c96822424768ba19f199c4287e82",
       "version_major": 2,
       "version_minor": 0
      },
      "text/plain": [
       "HBox(children=(FloatProgress(value=0.0, max=134.0), HTML(value='')))"
      ]
     },
     "metadata": {},
     "output_type": "display_data"
    },
    {
     "name": "stdout",
     "output_type": "stream",
     "text": [
      "\n"
     ]
    },
    {
     "data": {
      "application/vnd.jupyter.widget-view+json": {
       "model_id": "c6c61f5a2dbb4a488780d821fc0ce962",
       "version_major": 2,
       "version_minor": 0
      },
      "text/plain": [
       "HBox(children=(FloatProgress(value=0.0, max=25.0), HTML(value='')))"
      ]
     },
     "metadata": {},
     "output_type": "display_data"
    },
    {
     "name": "stdout",
     "output_type": "stream",
     "text": [
      "\n",
      "traing_acc : 0.88%\n",
      "loss : 0.2828\n",
      "test_acc : 0.78%\n",
      "epochs 14/20 \n"
     ]
    },
    {
     "data": {
      "application/vnd.jupyter.widget-view+json": {
       "model_id": "cb4c76ab751c4b5c9910c1317029ec3d",
       "version_major": 2,
       "version_minor": 0
      },
      "text/plain": [
       "HBox(children=(FloatProgress(value=0.0, max=134.0), HTML(value='')))"
      ]
     },
     "metadata": {},
     "output_type": "display_data"
    },
    {
     "name": "stdout",
     "output_type": "stream",
     "text": [
      "\n"
     ]
    },
    {
     "data": {
      "application/vnd.jupyter.widget-view+json": {
       "model_id": "38b1a09b883b471f8731dd7685b1fa2a",
       "version_major": 2,
       "version_minor": 0
      },
      "text/plain": [
       "HBox(children=(FloatProgress(value=0.0, max=25.0), HTML(value='')))"
      ]
     },
     "metadata": {},
     "output_type": "display_data"
    },
    {
     "name": "stdout",
     "output_type": "stream",
     "text": [
      "\n",
      "traing_acc : 0.89%\n",
      "loss : 0.2593\n",
      "test_acc : 0.63%\n",
      "epochs 15/20 \n"
     ]
    },
    {
     "data": {
      "application/vnd.jupyter.widget-view+json": {
       "model_id": "1679c70bd4ba48f083b385d3a95f7459",
       "version_major": 2,
       "version_minor": 0
      },
      "text/plain": [
       "HBox(children=(FloatProgress(value=0.0, max=134.0), HTML(value='')))"
      ]
     },
     "metadata": {},
     "output_type": "display_data"
    },
    {
     "name": "stdout",
     "output_type": "stream",
     "text": [
      "\n"
     ]
    },
    {
     "data": {
      "application/vnd.jupyter.widget-view+json": {
       "model_id": "1cd87b961e1140dbbbf836a05c1a1e3d",
       "version_major": 2,
       "version_minor": 0
      },
      "text/plain": [
       "HBox(children=(FloatProgress(value=0.0, max=25.0), HTML(value='')))"
      ]
     },
     "metadata": {},
     "output_type": "display_data"
    },
    {
     "name": "stdout",
     "output_type": "stream",
     "text": [
      "\n",
      "traing_acc : 0.90%\n",
      "loss : 0.2469\n",
      "test_acc : 0.75%\n",
      "epochs 16/20 \n"
     ]
    },
    {
     "data": {
      "application/vnd.jupyter.widget-view+json": {
       "model_id": "d2487d4753e7485993345b7c73b93341",
       "version_major": 2,
       "version_minor": 0
      },
      "text/plain": [
       "HBox(children=(FloatProgress(value=0.0, max=134.0), HTML(value='')))"
      ]
     },
     "metadata": {},
     "output_type": "display_data"
    },
    {
     "name": "stdout",
     "output_type": "stream",
     "text": [
      "\n"
     ]
    },
    {
     "data": {
      "application/vnd.jupyter.widget-view+json": {
       "model_id": "0f7e13cf2d02439d9753e024ef5e289d",
       "version_major": 2,
       "version_minor": 0
      },
      "text/plain": [
       "HBox(children=(FloatProgress(value=0.0, max=25.0), HTML(value='')))"
      ]
     },
     "metadata": {},
     "output_type": "display_data"
    },
    {
     "name": "stdout",
     "output_type": "stream",
     "text": [
      "\n",
      "traing_acc : 0.91%\n",
      "loss : 0.2258\n",
      "test_acc : 0.76%\n",
      "epochs 17/20 \n"
     ]
    },
    {
     "data": {
      "application/vnd.jupyter.widget-view+json": {
       "model_id": "e52ef81ae2a2467c8d286c172b91df4b",
       "version_major": 2,
       "version_minor": 0
      },
      "text/plain": [
       "HBox(children=(FloatProgress(value=0.0, max=134.0), HTML(value='')))"
      ]
     },
     "metadata": {},
     "output_type": "display_data"
    },
    {
     "name": "stdout",
     "output_type": "stream",
     "text": [
      "\n"
     ]
    },
    {
     "data": {
      "application/vnd.jupyter.widget-view+json": {
       "model_id": "33969c044bb948e49e824b27562c5148",
       "version_major": 2,
       "version_minor": 0
      },
      "text/plain": [
       "HBox(children=(FloatProgress(value=0.0, max=25.0), HTML(value='')))"
      ]
     },
     "metadata": {},
     "output_type": "display_data"
    },
    {
     "name": "stdout",
     "output_type": "stream",
     "text": [
      "\n",
      "traing_acc : 0.92%\n",
      "loss : 0.2131\n",
      "test_acc : 0.80%\n",
      "epochs 18/20 \n"
     ]
    },
    {
     "data": {
      "application/vnd.jupyter.widget-view+json": {
       "model_id": "5e958bbf760942baa6a37471eb71e567",
       "version_major": 2,
       "version_minor": 0
      },
      "text/plain": [
       "HBox(children=(FloatProgress(value=0.0, max=134.0), HTML(value='')))"
      ]
     },
     "metadata": {},
     "output_type": "display_data"
    },
    {
     "name": "stdout",
     "output_type": "stream",
     "text": [
      "\n"
     ]
    },
    {
     "data": {
      "application/vnd.jupyter.widget-view+json": {
       "model_id": "fe7d8b5c43964f19beafc9877adc65bb",
       "version_major": 2,
       "version_minor": 0
      },
      "text/plain": [
       "HBox(children=(FloatProgress(value=0.0, max=25.0), HTML(value='')))"
      ]
     },
     "metadata": {},
     "output_type": "display_data"
    },
    {
     "name": "stdout",
     "output_type": "stream",
     "text": [
      "\n",
      "traing_acc : 0.92%\n",
      "loss : 0.1879\n",
      "test_acc : 0.77%\n",
      "epochs 19/20 \n"
     ]
    },
    {
     "data": {
      "application/vnd.jupyter.widget-view+json": {
       "model_id": "5c9eb1c7e4d446e7a17c8d94e882a203",
       "version_major": 2,
       "version_minor": 0
      },
      "text/plain": [
       "HBox(children=(FloatProgress(value=0.0, max=134.0), HTML(value='')))"
      ]
     },
     "metadata": {},
     "output_type": "display_data"
    },
    {
     "name": "stdout",
     "output_type": "stream",
     "text": [
      "\n"
     ]
    },
    {
     "data": {
      "application/vnd.jupyter.widget-view+json": {
       "model_id": "aa7ddaea5bf64582b504a87d4da22796",
       "version_major": 2,
       "version_minor": 0
      },
      "text/plain": [
       "HBox(children=(FloatProgress(value=0.0, max=25.0), HTML(value='')))"
      ]
     },
     "metadata": {},
     "output_type": "display_data"
    },
    {
     "name": "stdout",
     "output_type": "stream",
     "text": [
      "\n",
      "traing_acc : 0.92%\n",
      "loss : 0.1818\n",
      "test_acc : 0.79%\n",
      "epochs 20/20 \n"
     ]
    },
    {
     "data": {
      "application/vnd.jupyter.widget-view+json": {
       "model_id": "26354ecdfce0436383b9511c225136c5",
       "version_major": 2,
       "version_minor": 0
      },
      "text/plain": [
       "HBox(children=(FloatProgress(value=0.0, max=134.0), HTML(value='')))"
      ]
     },
     "metadata": {},
     "output_type": "display_data"
    },
    {
     "name": "stdout",
     "output_type": "stream",
     "text": [
      "\n"
     ]
    },
    {
     "data": {
      "application/vnd.jupyter.widget-view+json": {
       "model_id": "94bbe9533cb84b55a569c8a12706988f",
       "version_major": 2,
       "version_minor": 0
      },
      "text/plain": [
       "HBox(children=(FloatProgress(value=0.0, max=25.0), HTML(value='')))"
      ]
     },
     "metadata": {},
     "output_type": "display_data"
    },
    {
     "name": "stdout",
     "output_type": "stream",
     "text": [
      "\n",
      "traing_acc : 0.94%\n",
      "loss : 0.1599\n",
      "test_acc : 0.74%\n"
     ]
    }
   ],
   "source": [
    "device = torch.device(\"cuda:0\" if torch.cuda.is_available() else \"cpu\")\n",
    "model = ResNet34(2).to(device)\n",
    "optimizer = torch.optim.Adam(model.parameters(),lr = 5e-4)\n",
    "criterion = nn.CrossEntropyLoss(reduce='mean')\n",
    "epochs = 20\n",
    "device = torch.device(\"cuda:0\" if torch.cuda.is_available() else \"cpu\")\n",
    "\n",
    "losses = []\n",
    "accs = []\n",
    "for epoch in range(epochs):\n",
    "    \n",
    "    print('epochs {}/{} '.format(epoch+1,epochs))\n",
    "    running_loss = 0.0\n",
    "    running_acc = 0.0\n",
    "    model.train()\n",
    "    for idx, (inputs,labels) in tqdm(enumerate(train_loader),total=len(train_loader)):\n",
    "        inputs = inputs.to(device)\n",
    "        labels = labels.to(device)\n",
    "        optimizer.zero_grad()\n",
    "        \n",
    "#         outputs = model(inputs.permute(0,3,2,1).float())\n",
    "        outputs = model(inputs.float())\n",
    "        loss = criterion(outputs,labels)\n",
    "        loss.backward()\n",
    "        optimizer.step()\n",
    "        \n",
    "        running_loss += loss.item()\n",
    "#         outputs = outputs.cpu().data\n",
    "        running_acc += (outputs.argmax(1)==labels).float().mean().item()\n",
    "    \n",
    "    test_acc = 0\n",
    "    with torch.no_grad():\n",
    "        for idx, (inputs,labels) in tqdm(enumerate(test_loader),total=len(test_loader)):\n",
    "            inputs = inputs.to(device)\n",
    "            labels = labels.to(device)\n",
    "            model.eval()\n",
    "            outputs = model(inputs.float())\n",
    "            test_acc += (outputs.argmax(1)==labels).float().mean().item()\n",
    "\n",
    "    losses.append(running_loss/len(train_loader))\n",
    "    accs.append(running_acc/len(train_loader))\n",
    "    print('traing_acc : {:.2f}%'.format(running_acc/len(train_loader)))\n",
    "    print('loss : {:.4f}'.format(running_loss/len(train_loader)))\n",
    "    print('test_acc : {:.2f}%'.format(test_acc/len(test_loader)))"
   ]
  },
  {
   "cell_type": "code",
   "execution_count": 20,
   "metadata": {
    "ExecuteTime": {
     "end_time": "2020-06-03T03:04:12.898562Z",
     "start_time": "2020-06-03T03:04:12.737285Z"
    }
   },
   "outputs": [],
   "source": [
    "torch.save(model.state_dict(), 'output/resnet_base.pkl')  "
   ]
  },
  {
   "cell_type": "code",
   "execution_count": 7,
   "metadata": {
    "ExecuteTime": {
     "end_time": "2020-06-03T06:01:35.560987Z",
     "start_time": "2020-06-03T06:01:35.556415Z"
    }
   },
   "outputs": [
    {
     "data": {
      "text/plain": [
       "76.66666666666667"
      ]
     },
     "execution_count": 7,
     "metadata": {},
     "output_type": "execute_result"
    }
   ],
   "source": [
    "(77+79+74)/3"
   ]
  },
  {
   "cell_type": "markdown",
   "metadata": {},
   "source": [
    "dataset:\n",
    "\n",
    "training set: 4000 dogs, 1333 cats\n",
    "\n",
    "test set: 500 dogs, 500 cats\n",
    "* baseline: 20 epochs, 76.67%, 23m47s\n",
    "* weighted loss: 20 epoches, 76.00%, 23m34s\n",
    "* undersampling: 10 epoches, 69.00%, 13m3s\n",
    "* oversampling: 10 epoches, 76.33%, 34m47s"
   ]
  },
  {
   "cell_type": "code",
   "execution_count": 8,
   "metadata": {
    "ExecuteTime": {
     "end_time": "2020-06-03T06:01:39.571308Z",
     "start_time": "2020-06-03T06:01:39.558158Z"
    },
    "code_folding": [
     1
    ]
   },
   "outputs": [],
   "source": [
    "data_root = '/home/hezhang/workspace/cvpr/data/training_set/'\n",
    "def generateTrainloader_v1(sampling='Under'):\n",
    "    temp_root = '/home/hezhang/workspace/cvpr/data/training_set/temp_set/'\n",
    "    try:\n",
    "        shutil.rmtree(temp_root+'dogs')\n",
    "        shutil.rmtree(temp_root+'cats')\n",
    "    except:\n",
    "        pass\n",
    "    if sampling == 'Under':\n",
    "        if not os.path.exists(temp_root+'dogs'):\n",
    "            os.mkdir(temp_root+'dogs')\n",
    "        ## sampling 1/3 of dogs\n",
    "        dogs_list = os.listdir(data_root+'unbalance_set/dogs')\n",
    "        interest_dogs = random.sample(dogs_list, int(len(dogs_list)/3)) \n",
    "        for item in interest_dogs:\n",
    "            raw_file = data_root + 'unbalance_set/dogs/' + item\n",
    "            target_file = data_root + 'temp_set/dogs/' + item\n",
    "            shutil.copy(raw_file, target_file)\n",
    "        shutil.copytree(data_root+'unbalance_set/cats/', data_root + 'temp_set/cats/')\n",
    "    if sampling == 'Over':\n",
    "        if not os.path.exists(temp_root+'cats'):\n",
    "            os.mkdir(temp_root+'cats')\n",
    "        ## sampling 3/1 of cats\n",
    "        cats_list = os.listdir(data_root+'unbalance_set/cats')\n",
    "        interest_cats = random.choices(cats_list, k=int(len(cats_list)*3)) \n",
    "        index = 0\n",
    "        for item in interest_cats:\n",
    "            raw_file = data_root + 'unbalance_set/cats/' + item\n",
    "            target_file = data_root + 'temp_set/cats/' + item\n",
    "            if (os.path.exists(target_file)) & (target_file[-4:]=='.jpg'):\n",
    "                target_file = target_file[:-4] + '_' + str(index) + '.jpg'\n",
    "                index += 1\n",
    "            shutil.copy(raw_file, target_file)\n",
    "        shutil.copytree(data_root+'unbalance_set/dogs/', data_root + 'temp_set/dogs/')\n",
    "    \n",
    "    train_data_dir = '/home/hezhang/workspace/cvpr/data/training_set/temp_set'\n",
    "\n",
    "    transform = transforms.Compose([transforms.Resize(65),\n",
    "                                    transforms.CenterCrop(64),\n",
    "                                    transforms.ToTensor()])\n",
    "\n",
    "    dataset = torchvision.datasets.ImageFolder(train_data_dir, transform= transform)\n",
    "    train_loader = torch.utils.data.DataLoader(dataset, batch_size=40 ,shuffle=True)\n",
    "    \n",
    "    num_cat = 0\n",
    "    num_dog = 0\n",
    "    for item in dataset.imgs:\n",
    "        if item[1] == 0:\n",
    "            num_cat += 1\n",
    "        else:\n",
    "            num_dog += 1\n",
    "    print('generated dataset:\\nthere are {} cats,\\n{} dogs'.format(num_cat, num_dog))\n",
    "    \n",
    "    return train_loader\n",
    "\n",
    "# test_train_loader = generateTrainloader(sampling='Over')   "
   ]
  },
  {
   "cell_type": "code",
   "execution_count": 12,
   "metadata": {
    "ExecuteTime": {
     "end_time": "2020-06-03T06:15:47.476765Z",
     "start_time": "2020-06-03T06:02:44.746647Z"
    },
    "code_folding": [],
    "scrolled": true
   },
   "outputs": [
    {
     "name": "stderr",
     "output_type": "stream",
     "text": [
      "/home/hezhang/anaconda3/lib/python3.7/site-packages/torch/nn/_reduction.py:43: UserWarning: size_average and reduce args will be deprecated, please use reduction='mean' instead.\n",
      "  warnings.warn(warning.format(ret))\n"
     ]
    },
    {
     "name": "stdout",
     "output_type": "stream",
     "text": [
      "generated dataset:\n",
      "there are 1332 cats,\n",
      "1334 dogs\n"
     ]
    },
    {
     "name": "stderr",
     "output_type": "stream",
     "text": [
      "/home/hezhang/anaconda3/lib/python3.7/site-packages/ipykernel_launcher.py:9: TqdmDeprecationWarning: This function will be removed in tqdm==5.0.0\n",
      "Please use `tqdm.notebook.tqdm` instead of `tqdm.tqdm_notebook`\n",
      "  if __name__ == '__main__':\n"
     ]
    },
    {
     "data": {
      "application/vnd.jupyter.widget-view+json": {
       "model_id": "e1bc6d337ae54736a30ff831d828e43c",
       "version_major": 2,
       "version_minor": 0
      },
      "text/plain": [
       "HBox(children=(FloatProgress(value=0.0, max=67.0), HTML(value='')))"
      ]
     },
     "metadata": {},
     "output_type": "display_data"
    },
    {
     "name": "stdout",
     "output_type": "stream",
     "text": [
      "\n"
     ]
    },
    {
     "name": "stderr",
     "output_type": "stream",
     "text": [
      "/home/hezhang/anaconda3/lib/python3.7/site-packages/ipykernel_launcher.py:25: TqdmDeprecationWarning: This function will be removed in tqdm==5.0.0\n",
      "Please use `tqdm.notebook.tqdm` instead of `tqdm.tqdm_notebook`\n"
     ]
    },
    {
     "data": {
      "application/vnd.jupyter.widget-view+json": {
       "model_id": "1a65436527e341a8bf6e76d4d2435c26",
       "version_major": 2,
       "version_minor": 0
      },
      "text/plain": [
       "HBox(children=(FloatProgress(value=0.0, max=25.0), HTML(value='')))"
      ]
     },
     "metadata": {},
     "output_type": "display_data"
    },
    {
     "name": "stdout",
     "output_type": "stream",
     "text": [
      "\n",
      "epochs 2/20 \n",
      "traing_acc : 0.65%\n",
      "loss : 0.6391\n",
      "test_acc : 0.64%\n",
      "generated dataset:\n",
      "there are 1332 cats,\n",
      "1335 dogs\n"
     ]
    },
    {
     "data": {
      "application/vnd.jupyter.widget-view+json": {
       "model_id": "d100fde706d7460c913802775355fc19",
       "version_major": 2,
       "version_minor": 0
      },
      "text/plain": [
       "HBox(children=(FloatProgress(value=0.0, max=67.0), HTML(value='')))"
      ]
     },
     "metadata": {},
     "output_type": "display_data"
    },
    {
     "name": "stdout",
     "output_type": "stream",
     "text": [
      "\n"
     ]
    },
    {
     "data": {
      "application/vnd.jupyter.widget-view+json": {
       "model_id": "559dbb62e0594c3c81d5924c5753974a",
       "version_major": 2,
       "version_minor": 0
      },
      "text/plain": [
       "HBox(children=(FloatProgress(value=0.0, max=25.0), HTML(value='')))"
      ]
     },
     "metadata": {},
     "output_type": "display_data"
    },
    {
     "name": "stdout",
     "output_type": "stream",
     "text": [
      "\n",
      "epochs 3/20 \n",
      "traing_acc : 0.67%\n",
      "loss : 0.6304\n",
      "test_acc : 0.65%\n",
      "generated dataset:\n",
      "there are 1332 cats,\n",
      "1335 dogs\n"
     ]
    },
    {
     "data": {
      "application/vnd.jupyter.widget-view+json": {
       "model_id": "2951e733f099453fa4bb86cb1b1b0ae8",
       "version_major": 2,
       "version_minor": 0
      },
      "text/plain": [
       "HBox(children=(FloatProgress(value=0.0, max=67.0), HTML(value='')))"
      ]
     },
     "metadata": {},
     "output_type": "display_data"
    },
    {
     "name": "stdout",
     "output_type": "stream",
     "text": [
      "\n"
     ]
    },
    {
     "data": {
      "application/vnd.jupyter.widget-view+json": {
       "model_id": "3a87a96082244aadaeead36bd61d8c4a",
       "version_major": 2,
       "version_minor": 0
      },
      "text/plain": [
       "HBox(children=(FloatProgress(value=0.0, max=25.0), HTML(value='')))"
      ]
     },
     "metadata": {},
     "output_type": "display_data"
    },
    {
     "name": "stdout",
     "output_type": "stream",
     "text": [
      "\n",
      "epochs 4/20 \n",
      "traing_acc : 0.67%\n",
      "loss : 0.6137\n",
      "test_acc : 0.63%\n",
      "generated dataset:\n",
      "there are 1332 cats,\n",
      "1334 dogs\n"
     ]
    },
    {
     "data": {
      "application/vnd.jupyter.widget-view+json": {
       "model_id": "4966e00f536b456e86d77ffc6c651ae6",
       "version_major": 2,
       "version_minor": 0
      },
      "text/plain": [
       "HBox(children=(FloatProgress(value=0.0, max=67.0), HTML(value='')))"
      ]
     },
     "metadata": {},
     "output_type": "display_data"
    },
    {
     "name": "stdout",
     "output_type": "stream",
     "text": [
      "\n"
     ]
    },
    {
     "data": {
      "application/vnd.jupyter.widget-view+json": {
       "model_id": "739de423b2fd4044a2bdfb7247438e95",
       "version_major": 2,
       "version_minor": 0
      },
      "text/plain": [
       "HBox(children=(FloatProgress(value=0.0, max=25.0), HTML(value='')))"
      ]
     },
     "metadata": {},
     "output_type": "display_data"
    },
    {
     "name": "stdout",
     "output_type": "stream",
     "text": [
      "\n",
      "epochs 5/20 \n",
      "traing_acc : 0.69%\n",
      "loss : 0.5960\n",
      "test_acc : 0.59%\n",
      "generated dataset:\n",
      "there are 1332 cats,\n",
      "1335 dogs\n"
     ]
    },
    {
     "data": {
      "application/vnd.jupyter.widget-view+json": {
       "model_id": "cf050f0813094583ba49b34eb1ea2bab",
       "version_major": 2,
       "version_minor": 0
      },
      "text/plain": [
       "HBox(children=(FloatProgress(value=0.0, max=67.0), HTML(value='')))"
      ]
     },
     "metadata": {},
     "output_type": "display_data"
    },
    {
     "name": "stdout",
     "output_type": "stream",
     "text": [
      "\n"
     ]
    },
    {
     "data": {
      "application/vnd.jupyter.widget-view+json": {
       "model_id": "c037357a41344ef6ba3706fe0f0963f9",
       "version_major": 2,
       "version_minor": 0
      },
      "text/plain": [
       "HBox(children=(FloatProgress(value=0.0, max=25.0), HTML(value='')))"
      ]
     },
     "metadata": {},
     "output_type": "display_data"
    },
    {
     "name": "stdout",
     "output_type": "stream",
     "text": [
      "\n",
      "epochs 6/20 \n",
      "traing_acc : 0.71%\n",
      "loss : 0.5769\n",
      "test_acc : 0.62%\n",
      "generated dataset:\n",
      "there are 1332 cats,\n",
      "1335 dogs\n"
     ]
    },
    {
     "data": {
      "application/vnd.jupyter.widget-view+json": {
       "model_id": "ff99ad8f0c3d48a1bdd276e133536303",
       "version_major": 2,
       "version_minor": 0
      },
      "text/plain": [
       "HBox(children=(FloatProgress(value=0.0, max=67.0), HTML(value='')))"
      ]
     },
     "metadata": {},
     "output_type": "display_data"
    },
    {
     "name": "stdout",
     "output_type": "stream",
     "text": [
      "\n"
     ]
    },
    {
     "data": {
      "application/vnd.jupyter.widget-view+json": {
       "model_id": "74c92173a74d406183e9368b329da1b7",
       "version_major": 2,
       "version_minor": 0
      },
      "text/plain": [
       "HBox(children=(FloatProgress(value=0.0, max=25.0), HTML(value='')))"
      ]
     },
     "metadata": {},
     "output_type": "display_data"
    },
    {
     "name": "stdout",
     "output_type": "stream",
     "text": [
      "\n",
      "epochs 7/20 \n",
      "traing_acc : 0.73%\n",
      "loss : 0.5487\n",
      "test_acc : 0.66%\n",
      "generated dataset:\n",
      "there are 1332 cats,\n",
      "1334 dogs\n"
     ]
    },
    {
     "data": {
      "application/vnd.jupyter.widget-view+json": {
       "model_id": "625f692d0293422c92c3abb2b8431e28",
       "version_major": 2,
       "version_minor": 0
      },
      "text/plain": [
       "HBox(children=(FloatProgress(value=0.0, max=67.0), HTML(value='')))"
      ]
     },
     "metadata": {},
     "output_type": "display_data"
    },
    {
     "name": "stdout",
     "output_type": "stream",
     "text": [
      "\n"
     ]
    },
    {
     "data": {
      "application/vnd.jupyter.widget-view+json": {
       "model_id": "c7c77c01de0c42f5ad9487bf94c5cd15",
       "version_major": 2,
       "version_minor": 0
      },
      "text/plain": [
       "HBox(children=(FloatProgress(value=0.0, max=25.0), HTML(value='')))"
      ]
     },
     "metadata": {},
     "output_type": "display_data"
    },
    {
     "name": "stdout",
     "output_type": "stream",
     "text": [
      "\n",
      "epochs 8/20 \n",
      "traing_acc : 0.73%\n",
      "loss : 0.5501\n",
      "test_acc : 0.67%\n",
      "generated dataset:\n",
      "there are 1332 cats,\n",
      "1335 dogs\n"
     ]
    },
    {
     "data": {
      "application/vnd.jupyter.widget-view+json": {
       "model_id": "45806d63e5a546db9ca377406e05b0ae",
       "version_major": 2,
       "version_minor": 0
      },
      "text/plain": [
       "HBox(children=(FloatProgress(value=0.0, max=67.0), HTML(value='')))"
      ]
     },
     "metadata": {},
     "output_type": "display_data"
    },
    {
     "name": "stdout",
     "output_type": "stream",
     "text": [
      "\n"
     ]
    },
    {
     "data": {
      "application/vnd.jupyter.widget-view+json": {
       "model_id": "aebea78852f64b33ab4a6327f7fed34d",
       "version_major": 2,
       "version_minor": 0
      },
      "text/plain": [
       "HBox(children=(FloatProgress(value=0.0, max=25.0), HTML(value='')))"
      ]
     },
     "metadata": {},
     "output_type": "display_data"
    },
    {
     "name": "stdout",
     "output_type": "stream",
     "text": [
      "\n",
      "epochs 9/20 \n",
      "traing_acc : 0.72%\n",
      "loss : 0.5521\n",
      "test_acc : 0.56%\n",
      "generated dataset:\n",
      "there are 1332 cats,\n",
      "1334 dogs\n"
     ]
    },
    {
     "data": {
      "application/vnd.jupyter.widget-view+json": {
       "model_id": "4ce1d85932384b06a03d8300a7533cf9",
       "version_major": 2,
       "version_minor": 0
      },
      "text/plain": [
       "HBox(children=(FloatProgress(value=0.0, max=67.0), HTML(value='')))"
      ]
     },
     "metadata": {},
     "output_type": "display_data"
    },
    {
     "name": "stdout",
     "output_type": "stream",
     "text": [
      "\n"
     ]
    },
    {
     "data": {
      "application/vnd.jupyter.widget-view+json": {
       "model_id": "c93405c3b2d74354bcc8c1b30ebd89eb",
       "version_major": 2,
       "version_minor": 0
      },
      "text/plain": [
       "HBox(children=(FloatProgress(value=0.0, max=25.0), HTML(value='')))"
      ]
     },
     "metadata": {},
     "output_type": "display_data"
    },
    {
     "name": "stdout",
     "output_type": "stream",
     "text": [
      "\n",
      "epochs 10/20 \n",
      "traing_acc : 0.74%\n",
      "loss : 0.5227\n",
      "test_acc : 0.68%\n",
      "generated dataset:\n",
      "there are 1332 cats,\n",
      "1335 dogs\n"
     ]
    },
    {
     "data": {
      "application/vnd.jupyter.widget-view+json": {
       "model_id": "1019698cbefe4967b9d61b90fca21e53",
       "version_major": 2,
       "version_minor": 0
      },
      "text/plain": [
       "HBox(children=(FloatProgress(value=0.0, max=67.0), HTML(value='')))"
      ]
     },
     "metadata": {},
     "output_type": "display_data"
    },
    {
     "name": "stdout",
     "output_type": "stream",
     "text": [
      "\n"
     ]
    },
    {
     "data": {
      "application/vnd.jupyter.widget-view+json": {
       "model_id": "bef17a9068534ac3be287a791d878339",
       "version_major": 2,
       "version_minor": 0
      },
      "text/plain": [
       "HBox(children=(FloatProgress(value=0.0, max=25.0), HTML(value='')))"
      ]
     },
     "metadata": {},
     "output_type": "display_data"
    },
    {
     "name": "stdout",
     "output_type": "stream",
     "text": [
      "\n",
      "epochs 11/20 \n",
      "traing_acc : 0.77%\n",
      "loss : 0.4930\n",
      "test_acc : 0.71%\n",
      "generated dataset:\n",
      "there are 1332 cats,\n",
      "1334 dogs\n"
     ]
    },
    {
     "data": {
      "application/vnd.jupyter.widget-view+json": {
       "model_id": "2ca2e05b96564a69a2c04fcde95d27c1",
       "version_major": 2,
       "version_minor": 0
      },
      "text/plain": [
       "HBox(children=(FloatProgress(value=0.0, max=67.0), HTML(value='')))"
      ]
     },
     "metadata": {},
     "output_type": "display_data"
    },
    {
     "name": "stdout",
     "output_type": "stream",
     "text": [
      "\n"
     ]
    },
    {
     "data": {
      "application/vnd.jupyter.widget-view+json": {
       "model_id": "8d94bea9576943afb30ac8b833a7e70b",
       "version_major": 2,
       "version_minor": 0
      },
      "text/plain": [
       "HBox(children=(FloatProgress(value=0.0, max=25.0), HTML(value='')))"
      ]
     },
     "metadata": {},
     "output_type": "display_data"
    },
    {
     "name": "stdout",
     "output_type": "stream",
     "text": [
      "\n",
      "epochs 12/20 \n",
      "traing_acc : 0.78%\n",
      "loss : 0.4688\n",
      "test_acc : 0.68%\n",
      "generated dataset:\n",
      "there are 1332 cats,\n",
      "1334 dogs\n"
     ]
    },
    {
     "data": {
      "application/vnd.jupyter.widget-view+json": {
       "model_id": "407d689805d7431fb680e466cbc056ae",
       "version_major": 2,
       "version_minor": 0
      },
      "text/plain": [
       "HBox(children=(FloatProgress(value=0.0, max=67.0), HTML(value='')))"
      ]
     },
     "metadata": {},
     "output_type": "display_data"
    },
    {
     "name": "stdout",
     "output_type": "stream",
     "text": [
      "\n"
     ]
    },
    {
     "data": {
      "application/vnd.jupyter.widget-view+json": {
       "model_id": "23313d0dfea54bc3a3fcef022995612b",
       "version_major": 2,
       "version_minor": 0
      },
      "text/plain": [
       "HBox(children=(FloatProgress(value=0.0, max=25.0), HTML(value='')))"
      ]
     },
     "metadata": {},
     "output_type": "display_data"
    },
    {
     "name": "stdout",
     "output_type": "stream",
     "text": [
      "\n",
      "epochs 13/20 \n",
      "traing_acc : 0.81%\n",
      "loss : 0.4305\n",
      "test_acc : 0.57%\n",
      "generated dataset:\n",
      "there are 1332 cats,\n",
      "1334 dogs\n"
     ]
    },
    {
     "data": {
      "application/vnd.jupyter.widget-view+json": {
       "model_id": "0dfa38fbb83643d888127672504efffe",
       "version_major": 2,
       "version_minor": 0
      },
      "text/plain": [
       "HBox(children=(FloatProgress(value=0.0, max=67.0), HTML(value='')))"
      ]
     },
     "metadata": {},
     "output_type": "display_data"
    },
    {
     "name": "stdout",
     "output_type": "stream",
     "text": [
      "\n"
     ]
    },
    {
     "data": {
      "application/vnd.jupyter.widget-view+json": {
       "model_id": "9190b265ee8a4e7a841d9e22c4a5ea42",
       "version_major": 2,
       "version_minor": 0
      },
      "text/plain": [
       "HBox(children=(FloatProgress(value=0.0, max=25.0), HTML(value='')))"
      ]
     },
     "metadata": {},
     "output_type": "display_data"
    },
    {
     "name": "stdout",
     "output_type": "stream",
     "text": [
      "\n",
      "epochs 14/20 \n",
      "traing_acc : 0.81%\n",
      "loss : 0.4201\n",
      "test_acc : 0.66%\n",
      "generated dataset:\n",
      "there are 1332 cats,\n",
      "1335 dogs\n"
     ]
    },
    {
     "data": {
      "application/vnd.jupyter.widget-view+json": {
       "model_id": "f6ce921b1e8243ea9455ce4f15001e11",
       "version_major": 2,
       "version_minor": 0
      },
      "text/plain": [
       "HBox(children=(FloatProgress(value=0.0, max=67.0), HTML(value='')))"
      ]
     },
     "metadata": {},
     "output_type": "display_data"
    },
    {
     "name": "stdout",
     "output_type": "stream",
     "text": [
      "\n"
     ]
    },
    {
     "data": {
      "application/vnd.jupyter.widget-view+json": {
       "model_id": "110baf5db26b49bbb71aca3f217aac01",
       "version_major": 2,
       "version_minor": 0
      },
      "text/plain": [
       "HBox(children=(FloatProgress(value=0.0, max=25.0), HTML(value='')))"
      ]
     },
     "metadata": {},
     "output_type": "display_data"
    },
    {
     "name": "stdout",
     "output_type": "stream",
     "text": [
      "\n",
      "epochs 15/20 \n",
      "traing_acc : 0.81%\n",
      "loss : 0.4007\n",
      "test_acc : 0.64%\n",
      "generated dataset:\n",
      "there are 1332 cats,\n",
      "1335 dogs\n"
     ]
    },
    {
     "data": {
      "application/vnd.jupyter.widget-view+json": {
       "model_id": "777ef39f9f6d418bb8e21fb1c2a1ab5e",
       "version_major": 2,
       "version_minor": 0
      },
      "text/plain": [
       "HBox(children=(FloatProgress(value=0.0, max=67.0), HTML(value='')))"
      ]
     },
     "metadata": {},
     "output_type": "display_data"
    },
    {
     "name": "stdout",
     "output_type": "stream",
     "text": [
      "\n"
     ]
    },
    {
     "data": {
      "application/vnd.jupyter.widget-view+json": {
       "model_id": "979531688b1f47d5af5683570ee66ff9",
       "version_major": 2,
       "version_minor": 0
      },
      "text/plain": [
       "HBox(children=(FloatProgress(value=0.0, max=25.0), HTML(value='')))"
      ]
     },
     "metadata": {},
     "output_type": "display_data"
    },
    {
     "name": "stdout",
     "output_type": "stream",
     "text": [
      "\n",
      "epochs 16/20 \n",
      "traing_acc : 0.83%\n",
      "loss : 0.3781\n",
      "test_acc : 0.65%\n",
      "generated dataset:\n",
      "there are 1332 cats,\n",
      "1334 dogs\n"
     ]
    },
    {
     "data": {
      "application/vnd.jupyter.widget-view+json": {
       "model_id": "3f4cb4015037431ca0798837553ca32a",
       "version_major": 2,
       "version_minor": 0
      },
      "text/plain": [
       "HBox(children=(FloatProgress(value=0.0, max=67.0), HTML(value='')))"
      ]
     },
     "metadata": {},
     "output_type": "display_data"
    },
    {
     "name": "stdout",
     "output_type": "stream",
     "text": [
      "\n"
     ]
    },
    {
     "data": {
      "application/vnd.jupyter.widget-view+json": {
       "model_id": "0437218f447749fe882b618486cead1f",
       "version_major": 2,
       "version_minor": 0
      },
      "text/plain": [
       "HBox(children=(FloatProgress(value=0.0, max=25.0), HTML(value='')))"
      ]
     },
     "metadata": {},
     "output_type": "display_data"
    },
    {
     "name": "stdout",
     "output_type": "stream",
     "text": [
      "\n",
      "epochs 17/20 \n",
      "traing_acc : 0.83%\n",
      "loss : 0.3747\n",
      "test_acc : 0.73%\n",
      "generated dataset:\n",
      "there are 1332 cats,\n",
      "1335 dogs\n"
     ]
    },
    {
     "data": {
      "application/vnd.jupyter.widget-view+json": {
       "model_id": "74e5bcae95a543c7a2ec959cd522cda9",
       "version_major": 2,
       "version_minor": 0
      },
      "text/plain": [
       "HBox(children=(FloatProgress(value=0.0, max=67.0), HTML(value='')))"
      ]
     },
     "metadata": {},
     "output_type": "display_data"
    },
    {
     "name": "stdout",
     "output_type": "stream",
     "text": [
      "\n"
     ]
    },
    {
     "data": {
      "application/vnd.jupyter.widget-view+json": {
       "model_id": "9ae75b0a99d144438ee317014cba31ee",
       "version_major": 2,
       "version_minor": 0
      },
      "text/plain": [
       "HBox(children=(FloatProgress(value=0.0, max=25.0), HTML(value='')))"
      ]
     },
     "metadata": {},
     "output_type": "display_data"
    },
    {
     "name": "stdout",
     "output_type": "stream",
     "text": [
      "\n",
      "epochs 18/20 \n",
      "traing_acc : 0.84%\n",
      "loss : 0.3577\n",
      "test_acc : 0.70%\n",
      "generated dataset:\n",
      "there are 1332 cats,\n",
      "1335 dogs\n"
     ]
    },
    {
     "data": {
      "application/vnd.jupyter.widget-view+json": {
       "model_id": "0c9809563f34448e9eb18cf62bce08e8",
       "version_major": 2,
       "version_minor": 0
      },
      "text/plain": [
       "HBox(children=(FloatProgress(value=0.0, max=67.0), HTML(value='')))"
      ]
     },
     "metadata": {},
     "output_type": "display_data"
    },
    {
     "name": "stdout",
     "output_type": "stream",
     "text": [
      "\n"
     ]
    },
    {
     "data": {
      "application/vnd.jupyter.widget-view+json": {
       "model_id": "08d2ee6a38a241d88238d39472e648b3",
       "version_major": 2,
       "version_minor": 0
      },
      "text/plain": [
       "HBox(children=(FloatProgress(value=0.0, max=25.0), HTML(value='')))"
      ]
     },
     "metadata": {},
     "output_type": "display_data"
    },
    {
     "name": "stdout",
     "output_type": "stream",
     "text": [
      "\n",
      "epochs 19/20 \n",
      "traing_acc : 0.86%\n",
      "loss : 0.3223\n",
      "test_acc : 0.72%\n",
      "generated dataset:\n",
      "there are 1332 cats,\n",
      "1334 dogs\n"
     ]
    },
    {
     "data": {
      "application/vnd.jupyter.widget-view+json": {
       "model_id": "d2b7f8d256634f098f359842fbdf6b3e",
       "version_major": 2,
       "version_minor": 0
      },
      "text/plain": [
       "HBox(children=(FloatProgress(value=0.0, max=67.0), HTML(value='')))"
      ]
     },
     "metadata": {},
     "output_type": "display_data"
    },
    {
     "name": "stdout",
     "output_type": "stream",
     "text": [
      "\n"
     ]
    },
    {
     "data": {
      "application/vnd.jupyter.widget-view+json": {
       "model_id": "b9eb9456a9204d37bfe9b323bde87a95",
       "version_major": 2,
       "version_minor": 0
      },
      "text/plain": [
       "HBox(children=(FloatProgress(value=0.0, max=25.0), HTML(value='')))"
      ]
     },
     "metadata": {},
     "output_type": "display_data"
    },
    {
     "name": "stdout",
     "output_type": "stream",
     "text": [
      "\n",
      "epochs 20/20 \n",
      "traing_acc : 0.87%\n",
      "loss : 0.3076\n",
      "test_acc : 0.65%\n"
     ]
    }
   ],
   "source": [
    "def train(model, optimizer, criterian, flag, sampling='Under'):\n",
    "    losses = []\n",
    "    accs = []\n",
    "    for epoch in range(epochs):\n",
    "        train_loader = generateTrainloader_v1(sampling=sampling)\n",
    "        running_loss = 0.0\n",
    "        running_acc = 0.0\n",
    "        model.train()\n",
    "        for idx, (inputs,labels) in tqdm(enumerate(train_loader),total=len(train_loader)):\n",
    "            inputs = inputs.to(device)\n",
    "            labels = labels.to(device)\n",
    "\n",
    "            optimizer.zero_grad()\n",
    "\n",
    "            outputs = model(inputs.float())\n",
    "            loss = criterion(outputs,labels)\n",
    "            loss.backward()\n",
    "            optimizer.step()\n",
    "\n",
    "            running_loss += loss.item()\n",
    "            running_acc += (outputs.argmax(1)==labels).float().mean().item()\n",
    "\n",
    "        test_acc = 0\n",
    "        with torch.no_grad():\n",
    "            for idx, (inputs,labels) in tqdm(enumerate(test_loader),total=len(test_loader)):\n",
    "                inputs = inputs.to(device)\n",
    "                labels = labels.to(device)\n",
    "                model.eval()\n",
    "                outputs = model(inputs.float())\n",
    "                test_acc += (outputs.argmax(1)==labels).float().mean().item()\n",
    "\n",
    "        losses.append(running_loss/len(train_loader))\n",
    "        accs.append(running_acc/len(train_loader))\n",
    "        print('epochs {}/{} '.format(epoch+1,epochs))\n",
    "        print('traing_acc : {:.2f}%'.format(running_acc/len(train_loader)))\n",
    "        print('loss : {:.4f}'.format(running_loss/len(train_loader)))\n",
    "        print('test_acc : {:.2f}%'.format(test_acc/len(test_loader)))\n",
    "    torch.save(model.state_dict(), 'output/'+ flag + '.pkl')  \n",
    "        \n",
    "model = ResNet34(2).to(device)\n",
    "optimizer = torch.optim.Adam(model.parameters(),lr = 5e-4)\n",
    "# class_weights = torch.Tensor([1.5, 0.5]).cuda() \n",
    "# criterion = nn.CrossEntropyLoss(reduce='mean',weight=class_weights)\n",
    "criterion = nn.CrossEntropyLoss(reduce='mean')\n",
    "epochs = 20\n",
    "flag = 'resnet_undersampling'\n",
    "train(model, optimizer, criterion, flag, sampling='Under')"
   ]
  },
  {
   "cell_type": "code",
   "execution_count": 15,
   "metadata": {
    "ExecuteTime": {
     "end_time": "2020-06-03T07:49:24.780576Z",
     "start_time": "2020-06-03T07:49:24.776873Z"
    }
   },
   "outputs": [
    {
     "data": {
      "text/plain": [
       "76.33333333333333"
      ]
     },
     "execution_count": 15,
     "metadata": {},
     "output_type": "execute_result"
    }
   ],
   "source": [
    "(76+77+76)/3"
   ]
  },
  {
   "cell_type": "code",
   "execution_count": 14,
   "metadata": {
    "ExecuteTime": {
     "end_time": "2020-06-03T07:08:53.358638Z",
     "start_time": "2020-06-03T06:34:06.265280Z"
    },
    "scrolled": true
   },
   "outputs": [
    {
     "name": "stdout",
     "output_type": "stream",
     "text": [
      "generated dataset:\n",
      "there are 3994 cats,\n",
      "4005 dogs\n"
     ]
    },
    {
     "name": "stderr",
     "output_type": "stream",
     "text": [
      "/home/hezhang/anaconda3/lib/python3.7/site-packages/ipykernel_launcher.py:9: TqdmDeprecationWarning: This function will be removed in tqdm==5.0.0\n",
      "Please use `tqdm.notebook.tqdm` instead of `tqdm.tqdm_notebook`\n",
      "  if __name__ == '__main__':\n"
     ]
    },
    {
     "data": {
      "application/vnd.jupyter.widget-view+json": {
       "model_id": "8b5a0dd2240e4a6699091bae96d3d18f",
       "version_major": 2,
       "version_minor": 0
      },
      "text/plain": [
       "HBox(children=(FloatProgress(value=0.0, max=200.0), HTML(value='')))"
      ]
     },
     "metadata": {},
     "output_type": "display_data"
    },
    {
     "name": "stdout",
     "output_type": "stream",
     "text": [
      "\n"
     ]
    },
    {
     "name": "stderr",
     "output_type": "stream",
     "text": [
      "/home/hezhang/anaconda3/lib/python3.7/site-packages/ipykernel_launcher.py:25: TqdmDeprecationWarning: This function will be removed in tqdm==5.0.0\n",
      "Please use `tqdm.notebook.tqdm` instead of `tqdm.tqdm_notebook`\n"
     ]
    },
    {
     "data": {
      "application/vnd.jupyter.widget-view+json": {
       "model_id": "835aecd31c714f85ba44b75a6220e6f3",
       "version_major": 2,
       "version_minor": 0
      },
      "text/plain": [
       "HBox(children=(FloatProgress(value=0.0, max=25.0), HTML(value='')))"
      ]
     },
     "metadata": {},
     "output_type": "display_data"
    },
    {
     "name": "stdout",
     "output_type": "stream",
     "text": [
      "\n",
      "epochs 1/20 \n",
      "traing_acc : 0.62%\n",
      "loss : 0.6709\n",
      "test_acc : 0.54%\n",
      "generated dataset:\n",
      "there are 3998 cats,\n",
      "4005 dogs\n"
     ]
    },
    {
     "data": {
      "application/vnd.jupyter.widget-view+json": {
       "model_id": "b84ea0387802460d9dcf10bb3e5a1c94",
       "version_major": 2,
       "version_minor": 0
      },
      "text/plain": [
       "HBox(children=(FloatProgress(value=0.0, max=201.0), HTML(value='')))"
      ]
     },
     "metadata": {},
     "output_type": "display_data"
    },
    {
     "name": "stdout",
     "output_type": "stream",
     "text": [
      "\n"
     ]
    },
    {
     "data": {
      "application/vnd.jupyter.widget-view+json": {
       "model_id": "3f7daecdbab140ec9b02422f2787d026",
       "version_major": 2,
       "version_minor": 0
      },
      "text/plain": [
       "HBox(children=(FloatProgress(value=0.0, max=25.0), HTML(value='')))"
      ]
     },
     "metadata": {},
     "output_type": "display_data"
    },
    {
     "name": "stdout",
     "output_type": "stream",
     "text": [
      "\n",
      "epochs 2/20 \n",
      "traing_acc : 0.71%\n",
      "loss : 0.5783\n",
      "test_acc : 0.66%\n",
      "generated dataset:\n",
      "there are 3995 cats,\n",
      "4005 dogs\n"
     ]
    },
    {
     "data": {
      "application/vnd.jupyter.widget-view+json": {
       "model_id": "17548eb4ecee460ab63bd8732a68accb",
       "version_major": 2,
       "version_minor": 0
      },
      "text/plain": [
       "HBox(children=(FloatProgress(value=0.0, max=200.0), HTML(value='')))"
      ]
     },
     "metadata": {},
     "output_type": "display_data"
    },
    {
     "name": "stdout",
     "output_type": "stream",
     "text": [
      "\n"
     ]
    },
    {
     "data": {
      "application/vnd.jupyter.widget-view+json": {
       "model_id": "c7677a6b43134af8b41e63cd848ed88e",
       "version_major": 2,
       "version_minor": 0
      },
      "text/plain": [
       "HBox(children=(FloatProgress(value=0.0, max=25.0), HTML(value='')))"
      ]
     },
     "metadata": {},
     "output_type": "display_data"
    },
    {
     "name": "stdout",
     "output_type": "stream",
     "text": [
      "\n",
      "epochs 3/20 \n",
      "traing_acc : 0.73%\n",
      "loss : 0.5441\n",
      "test_acc : 0.71%\n",
      "generated dataset:\n",
      "there are 3998 cats,\n",
      "4005 dogs\n"
     ]
    },
    {
     "data": {
      "application/vnd.jupyter.widget-view+json": {
       "model_id": "3d34e4749fb7417aa1c1b715e4ad84a5",
       "version_major": 2,
       "version_minor": 0
      },
      "text/plain": [
       "HBox(children=(FloatProgress(value=0.0, max=201.0), HTML(value='')))"
      ]
     },
     "metadata": {},
     "output_type": "display_data"
    },
    {
     "name": "stdout",
     "output_type": "stream",
     "text": [
      "\n"
     ]
    },
    {
     "data": {
      "application/vnd.jupyter.widget-view+json": {
       "model_id": "a60cea6650f44b829e0d6881eeeb52af",
       "version_major": 2,
       "version_minor": 0
      },
      "text/plain": [
       "HBox(children=(FloatProgress(value=0.0, max=25.0), HTML(value='')))"
      ]
     },
     "metadata": {},
     "output_type": "display_data"
    },
    {
     "name": "stdout",
     "output_type": "stream",
     "text": [
      "\n",
      "epochs 4/20 \n",
      "traing_acc : 0.79%\n",
      "loss : 0.4522\n",
      "test_acc : 0.73%\n",
      "generated dataset:\n",
      "there are 3996 cats,\n",
      "4005 dogs\n"
     ]
    },
    {
     "data": {
      "application/vnd.jupyter.widget-view+json": {
       "model_id": "224a93ea1f1642cdadfb580fc5674933",
       "version_major": 2,
       "version_minor": 0
      },
      "text/plain": [
       "HBox(children=(FloatProgress(value=0.0, max=201.0), HTML(value='')))"
      ]
     },
     "metadata": {},
     "output_type": "display_data"
    },
    {
     "name": "stdout",
     "output_type": "stream",
     "text": [
      "\n"
     ]
    },
    {
     "data": {
      "application/vnd.jupyter.widget-view+json": {
       "model_id": "b45dcee3a6c547378cb91020355e74bf",
       "version_major": 2,
       "version_minor": 0
      },
      "text/plain": [
       "HBox(children=(FloatProgress(value=0.0, max=25.0), HTML(value='')))"
      ]
     },
     "metadata": {},
     "output_type": "display_data"
    },
    {
     "name": "stdout",
     "output_type": "stream",
     "text": [
      "\n",
      "epochs 5/20 \n",
      "traing_acc : 0.81%\n",
      "loss : 0.4229\n",
      "test_acc : 0.74%\n",
      "generated dataset:\n",
      "there are 3997 cats,\n",
      "4005 dogs\n"
     ]
    },
    {
     "data": {
      "application/vnd.jupyter.widget-view+json": {
       "model_id": "9320f51bea4c4b14ba961238ec0c6620",
       "version_major": 2,
       "version_minor": 0
      },
      "text/plain": [
       "HBox(children=(FloatProgress(value=0.0, max=201.0), HTML(value='')))"
      ]
     },
     "metadata": {},
     "output_type": "display_data"
    },
    {
     "name": "stdout",
     "output_type": "stream",
     "text": [
      "\n"
     ]
    },
    {
     "data": {
      "application/vnd.jupyter.widget-view+json": {
       "model_id": "ee8a6b80dd7c439280efc5e12af4e6cd",
       "version_major": 2,
       "version_minor": 0
      },
      "text/plain": [
       "HBox(children=(FloatProgress(value=0.0, max=25.0), HTML(value='')))"
      ]
     },
     "metadata": {},
     "output_type": "display_data"
    },
    {
     "name": "stdout",
     "output_type": "stream",
     "text": [
      "\n",
      "epochs 6/20 \n",
      "traing_acc : 0.86%\n",
      "loss : 0.3448\n",
      "test_acc : 0.74%\n",
      "generated dataset:\n",
      "there are 3992 cats,\n",
      "4005 dogs\n"
     ]
    },
    {
     "data": {
      "application/vnd.jupyter.widget-view+json": {
       "model_id": "1a4dea7768974aa290ca69701d02718e",
       "version_major": 2,
       "version_minor": 0
      },
      "text/plain": [
       "HBox(children=(FloatProgress(value=0.0, max=200.0), HTML(value='')))"
      ]
     },
     "metadata": {},
     "output_type": "display_data"
    },
    {
     "name": "stdout",
     "output_type": "stream",
     "text": [
      "\n"
     ]
    },
    {
     "data": {
      "application/vnd.jupyter.widget-view+json": {
       "model_id": "20c6c84b28f24cecbc9dc2c454a52e14",
       "version_major": 2,
       "version_minor": 0
      },
      "text/plain": [
       "HBox(children=(FloatProgress(value=0.0, max=25.0), HTML(value='')))"
      ]
     },
     "metadata": {},
     "output_type": "display_data"
    },
    {
     "name": "stdout",
     "output_type": "stream",
     "text": [
      "\n",
      "epochs 7/20 \n",
      "traing_acc : 0.88%\n",
      "loss : 0.2916\n",
      "test_acc : 0.73%\n",
      "generated dataset:\n",
      "there are 3999 cats,\n",
      "4005 dogs\n"
     ]
    },
    {
     "data": {
      "application/vnd.jupyter.widget-view+json": {
       "model_id": "c76df1b716d14603a1b6da2df40d0497",
       "version_major": 2,
       "version_minor": 0
      },
      "text/plain": [
       "HBox(children=(FloatProgress(value=0.0, max=201.0), HTML(value='')))"
      ]
     },
     "metadata": {},
     "output_type": "display_data"
    },
    {
     "name": "stdout",
     "output_type": "stream",
     "text": [
      "\n"
     ]
    },
    {
     "data": {
      "application/vnd.jupyter.widget-view+json": {
       "model_id": "3ede2352e2f0497f8d303b4f009efd2b",
       "version_major": 2,
       "version_minor": 0
      },
      "text/plain": [
       "HBox(children=(FloatProgress(value=0.0, max=25.0), HTML(value='')))"
      ]
     },
     "metadata": {},
     "output_type": "display_data"
    },
    {
     "name": "stdout",
     "output_type": "stream",
     "text": [
      "\n",
      "epochs 8/20 \n",
      "traing_acc : 0.90%\n",
      "loss : 0.2419\n",
      "test_acc : 0.70%\n",
      "generated dataset:\n",
      "there are 3997 cats,\n",
      "4005 dogs\n"
     ]
    },
    {
     "data": {
      "application/vnd.jupyter.widget-view+json": {
       "model_id": "33ed39915bf14345969c65978eecf45a",
       "version_major": 2,
       "version_minor": 0
      },
      "text/plain": [
       "HBox(children=(FloatProgress(value=0.0, max=201.0), HTML(value='')))"
      ]
     },
     "metadata": {},
     "output_type": "display_data"
    },
    {
     "name": "stdout",
     "output_type": "stream",
     "text": [
      "\n"
     ]
    },
    {
     "data": {
      "application/vnd.jupyter.widget-view+json": {
       "model_id": "389257cd396847a98f31119c0672297e",
       "version_major": 2,
       "version_minor": 0
      },
      "text/plain": [
       "HBox(children=(FloatProgress(value=0.0, max=25.0), HTML(value='')))"
      ]
     },
     "metadata": {},
     "output_type": "display_data"
    },
    {
     "name": "stdout",
     "output_type": "stream",
     "text": [
      "\n",
      "epochs 9/20 \n",
      "traing_acc : 0.91%\n",
      "loss : 0.2231\n",
      "test_acc : 0.78%\n",
      "generated dataset:\n",
      "there are 3996 cats,\n",
      "4005 dogs\n"
     ]
    },
    {
     "data": {
      "application/vnd.jupyter.widget-view+json": {
       "model_id": "658ed1bde283447885c1fae525ed3c8c",
       "version_major": 2,
       "version_minor": 0
      },
      "text/plain": [
       "HBox(children=(FloatProgress(value=0.0, max=201.0), HTML(value='')))"
      ]
     },
     "metadata": {},
     "output_type": "display_data"
    },
    {
     "name": "stdout",
     "output_type": "stream",
     "text": [
      "\n"
     ]
    },
    {
     "data": {
      "application/vnd.jupyter.widget-view+json": {
       "model_id": "c3d5b708ccd846e69d2e555a0af1364a",
       "version_major": 2,
       "version_minor": 0
      },
      "text/plain": [
       "HBox(children=(FloatProgress(value=0.0, max=25.0), HTML(value='')))"
      ]
     },
     "metadata": {},
     "output_type": "display_data"
    },
    {
     "name": "stdout",
     "output_type": "stream",
     "text": [
      "\n",
      "epochs 10/20 \n",
      "traing_acc : 0.92%\n",
      "loss : 0.1836\n",
      "test_acc : 0.73%\n",
      "generated dataset:\n",
      "there are 3994 cats,\n",
      "4005 dogs\n"
     ]
    },
    {
     "data": {
      "application/vnd.jupyter.widget-view+json": {
       "model_id": "e83211cc0e004cb285948f863b7a0ca1",
       "version_major": 2,
       "version_minor": 0
      },
      "text/plain": [
       "HBox(children=(FloatProgress(value=0.0, max=200.0), HTML(value='')))"
      ]
     },
     "metadata": {},
     "output_type": "display_data"
    },
    {
     "name": "stdout",
     "output_type": "stream",
     "text": [
      "\n"
     ]
    },
    {
     "data": {
      "application/vnd.jupyter.widget-view+json": {
       "model_id": "bdfa181744744d55aead05030295cc2b",
       "version_major": 2,
       "version_minor": 0
      },
      "text/plain": [
       "HBox(children=(FloatProgress(value=0.0, max=25.0), HTML(value='')))"
      ]
     },
     "metadata": {},
     "output_type": "display_data"
    },
    {
     "name": "stdout",
     "output_type": "stream",
     "text": [
      "\n",
      "epochs 11/20 \n",
      "traing_acc : 0.94%\n",
      "loss : 0.1477\n",
      "test_acc : 0.74%\n",
      "generated dataset:\n",
      "there are 3994 cats,\n",
      "4005 dogs\n"
     ]
    },
    {
     "data": {
      "application/vnd.jupyter.widget-view+json": {
       "model_id": "e6a5be07956f44f3a1e80d9a9f63007c",
       "version_major": 2,
       "version_minor": 0
      },
      "text/plain": [
       "HBox(children=(FloatProgress(value=0.0, max=200.0), HTML(value='')))"
      ]
     },
     "metadata": {},
     "output_type": "display_data"
    },
    {
     "name": "stdout",
     "output_type": "stream",
     "text": [
      "\n"
     ]
    },
    {
     "data": {
      "application/vnd.jupyter.widget-view+json": {
       "model_id": "6d82c640605e49ba8e74623a8fbd4996",
       "version_major": 2,
       "version_minor": 0
      },
      "text/plain": [
       "HBox(children=(FloatProgress(value=0.0, max=25.0), HTML(value='')))"
      ]
     },
     "metadata": {},
     "output_type": "display_data"
    },
    {
     "name": "stdout",
     "output_type": "stream",
     "text": [
      "\n",
      "epochs 12/20 \n",
      "traing_acc : 0.96%\n",
      "loss : 0.1056\n",
      "test_acc : 0.72%\n",
      "generated dataset:\n",
      "there are 3995 cats,\n",
      "4005 dogs\n"
     ]
    },
    {
     "data": {
      "application/vnd.jupyter.widget-view+json": {
       "model_id": "861f2be2e80d4aaaa6f1afa654820ec2",
       "version_major": 2,
       "version_minor": 0
      },
      "text/plain": [
       "HBox(children=(FloatProgress(value=0.0, max=200.0), HTML(value='')))"
      ]
     },
     "metadata": {},
     "output_type": "display_data"
    },
    {
     "name": "stdout",
     "output_type": "stream",
     "text": [
      "\n"
     ]
    },
    {
     "data": {
      "application/vnd.jupyter.widget-view+json": {
       "model_id": "36ddf422580f48e89149b3aeda5a7216",
       "version_major": 2,
       "version_minor": 0
      },
      "text/plain": [
       "HBox(children=(FloatProgress(value=0.0, max=25.0), HTML(value='')))"
      ]
     },
     "metadata": {},
     "output_type": "display_data"
    },
    {
     "name": "stdout",
     "output_type": "stream",
     "text": [
      "\n",
      "epochs 13/20 \n",
      "traing_acc : 0.96%\n",
      "loss : 0.1004\n",
      "test_acc : 0.74%\n",
      "generated dataset:\n",
      "there are 3997 cats,\n",
      "4005 dogs\n"
     ]
    },
    {
     "data": {
      "application/vnd.jupyter.widget-view+json": {
       "model_id": "ac27250af391469d9d21deaf6e21d4ce",
       "version_major": 2,
       "version_minor": 0
      },
      "text/plain": [
       "HBox(children=(FloatProgress(value=0.0, max=201.0), HTML(value='')))"
      ]
     },
     "metadata": {},
     "output_type": "display_data"
    },
    {
     "name": "stdout",
     "output_type": "stream",
     "text": [
      "\n"
     ]
    },
    {
     "data": {
      "application/vnd.jupyter.widget-view+json": {
       "model_id": "7f7138a0f9914b3d8c103e6467cef2e5",
       "version_major": 2,
       "version_minor": 0
      },
      "text/plain": [
       "HBox(children=(FloatProgress(value=0.0, max=25.0), HTML(value='')))"
      ]
     },
     "metadata": {},
     "output_type": "display_data"
    },
    {
     "name": "stdout",
     "output_type": "stream",
     "text": [
      "\n",
      "epochs 14/20 \n",
      "traing_acc : 0.97%\n",
      "loss : 0.0843\n",
      "test_acc : 0.71%\n",
      "generated dataset:\n",
      "there are 3996 cats,\n",
      "4005 dogs\n"
     ]
    },
    {
     "data": {
      "application/vnd.jupyter.widget-view+json": {
       "model_id": "f7095317509241fa953d3ffa1b34116d",
       "version_major": 2,
       "version_minor": 0
      },
      "text/plain": [
       "HBox(children=(FloatProgress(value=0.0, max=201.0), HTML(value='')))"
      ]
     },
     "metadata": {},
     "output_type": "display_data"
    },
    {
     "name": "stdout",
     "output_type": "stream",
     "text": [
      "\n"
     ]
    },
    {
     "data": {
      "application/vnd.jupyter.widget-view+json": {
       "model_id": "dafb076be32044d68e3fcc1a8a021f50",
       "version_major": 2,
       "version_minor": 0
      },
      "text/plain": [
       "HBox(children=(FloatProgress(value=0.0, max=25.0), HTML(value='')))"
      ]
     },
     "metadata": {},
     "output_type": "display_data"
    },
    {
     "name": "stdout",
     "output_type": "stream",
     "text": [
      "\n",
      "epochs 15/20 \n",
      "traing_acc : 0.76%\n",
      "loss : 0.5073\n",
      "test_acc : 0.72%\n",
      "generated dataset:\n",
      "there are 3996 cats,\n",
      "4005 dogs\n"
     ]
    },
    {
     "data": {
      "application/vnd.jupyter.widget-view+json": {
       "model_id": "3d034d8bb6b240e4bcb7eb1f7f612b14",
       "version_major": 2,
       "version_minor": 0
      },
      "text/plain": [
       "HBox(children=(FloatProgress(value=0.0, max=201.0), HTML(value='')))"
      ]
     },
     "metadata": {},
     "output_type": "display_data"
    },
    {
     "name": "stdout",
     "output_type": "stream",
     "text": [
      "\n"
     ]
    },
    {
     "data": {
      "application/vnd.jupyter.widget-view+json": {
       "model_id": "ae7bd658f068466da26647a9abd46cc2",
       "version_major": 2,
       "version_minor": 0
      },
      "text/plain": [
       "HBox(children=(FloatProgress(value=0.0, max=25.0), HTML(value='')))"
      ]
     },
     "metadata": {},
     "output_type": "display_data"
    },
    {
     "name": "stdout",
     "output_type": "stream",
     "text": [
      "\n",
      "epochs 16/20 \n",
      "traing_acc : 0.85%\n",
      "loss : 0.3523\n",
      "test_acc : 0.77%\n",
      "generated dataset:\n",
      "there are 3998 cats,\n",
      "4005 dogs\n"
     ]
    },
    {
     "data": {
      "application/vnd.jupyter.widget-view+json": {
       "model_id": "7167cfe5159e4b08a389af0194f49519",
       "version_major": 2,
       "version_minor": 0
      },
      "text/plain": [
       "HBox(children=(FloatProgress(value=0.0, max=201.0), HTML(value='')))"
      ]
     },
     "metadata": {},
     "output_type": "display_data"
    },
    {
     "name": "stdout",
     "output_type": "stream",
     "text": [
      "\n"
     ]
    },
    {
     "data": {
      "application/vnd.jupyter.widget-view+json": {
       "model_id": "97e152f50e70447b8c9827f0d7ef3524",
       "version_major": 2,
       "version_minor": 0
      },
      "text/plain": [
       "HBox(children=(FloatProgress(value=0.0, max=25.0), HTML(value='')))"
      ]
     },
     "metadata": {},
     "output_type": "display_data"
    },
    {
     "name": "stdout",
     "output_type": "stream",
     "text": [
      "\n",
      "epochs 17/20 \n",
      "traing_acc : 0.93%\n",
      "loss : 0.1761\n",
      "test_acc : 0.74%\n",
      "generated dataset:\n",
      "there are 3996 cats,\n",
      "4005 dogs\n"
     ]
    },
    {
     "data": {
      "application/vnd.jupyter.widget-view+json": {
       "model_id": "edb9829793c94a2994c3ff5ea32ed6f0",
       "version_major": 2,
       "version_minor": 0
      },
      "text/plain": [
       "HBox(children=(FloatProgress(value=0.0, max=201.0), HTML(value='')))"
      ]
     },
     "metadata": {},
     "output_type": "display_data"
    },
    {
     "name": "stdout",
     "output_type": "stream",
     "text": [
      "\n"
     ]
    },
    {
     "data": {
      "application/vnd.jupyter.widget-view+json": {
       "model_id": "1b780c85a5f34e2ab47ae4943e8005ce",
       "version_major": 2,
       "version_minor": 0
      },
      "text/plain": [
       "HBox(children=(FloatProgress(value=0.0, max=25.0), HTML(value='')))"
      ]
     },
     "metadata": {},
     "output_type": "display_data"
    },
    {
     "name": "stdout",
     "output_type": "stream",
     "text": [
      "\n",
      "epochs 18/20 \n",
      "traing_acc : 0.94%\n",
      "loss : 0.1634\n",
      "test_acc : 0.76%\n",
      "generated dataset:\n",
      "there are 3994 cats,\n",
      "4005 dogs\n"
     ]
    },
    {
     "data": {
      "application/vnd.jupyter.widget-view+json": {
       "model_id": "2c6a1b0d41304730a76fbf4537ce76f5",
       "version_major": 2,
       "version_minor": 0
      },
      "text/plain": [
       "HBox(children=(FloatProgress(value=0.0, max=200.0), HTML(value='')))"
      ]
     },
     "metadata": {},
     "output_type": "display_data"
    },
    {
     "name": "stdout",
     "output_type": "stream",
     "text": [
      "\n"
     ]
    },
    {
     "data": {
      "application/vnd.jupyter.widget-view+json": {
       "model_id": "d50fd7ebe6f441b7864d3ef6b5a79dc8",
       "version_major": 2,
       "version_minor": 0
      },
      "text/plain": [
       "HBox(children=(FloatProgress(value=0.0, max=25.0), HTML(value='')))"
      ]
     },
     "metadata": {},
     "output_type": "display_data"
    },
    {
     "name": "stdout",
     "output_type": "stream",
     "text": [
      "\n",
      "epochs 19/20 \n",
      "traing_acc : 0.96%\n",
      "loss : 0.1022\n",
      "test_acc : 0.77%\n",
      "generated dataset:\n",
      "there are 3995 cats,\n",
      "4005 dogs\n"
     ]
    },
    {
     "data": {
      "application/vnd.jupyter.widget-view+json": {
       "model_id": "d4c9fb8408cb4659bacd5ae889c283ed",
       "version_major": 2,
       "version_minor": 0
      },
      "text/plain": [
       "HBox(children=(FloatProgress(value=0.0, max=200.0), HTML(value='')))"
      ]
     },
     "metadata": {},
     "output_type": "display_data"
    },
    {
     "name": "stdout",
     "output_type": "stream",
     "text": [
      "\n"
     ]
    },
    {
     "data": {
      "application/vnd.jupyter.widget-view+json": {
       "model_id": "08d64f9d082c480b946f927396bb7a52",
       "version_major": 2,
       "version_minor": 0
      },
      "text/plain": [
       "HBox(children=(FloatProgress(value=0.0, max=25.0), HTML(value='')))"
      ]
     },
     "metadata": {},
     "output_type": "display_data"
    },
    {
     "name": "stdout",
     "output_type": "stream",
     "text": [
      "\n",
      "epochs 20/20 \n",
      "traing_acc : 0.98%\n",
      "loss : 0.0460\n",
      "test_acc : 0.76%\n"
     ]
    }
   ],
   "source": [
    "model = ResNet34(2).to(device)\n",
    "optimizer = torch.optim.Adam(model.parameters(),lr = 5e-4)\n",
    "# class_weights = torch.Tensor([1.5, 0.5]).cuda() \n",
    "# criterion = nn.CrossEntropyLoss(reduce='mean',weight=class_weights)\n",
    "criterion = nn.CrossEntropyLoss(reduce='mean')\n",
    "epochs = 20\n",
    "flag = 'resnet_oversampling'\n",
    "train(model, optimizer, criterion, flag, sampling='Over')"
   ]
  },
  {
   "cell_type": "markdown",
   "metadata": {},
   "source": [
    "## metric"
   ]
  },
  {
   "cell_type": "code",
   "execution_count": 22,
   "metadata": {
    "ExecuteTime": {
     "end_time": "2020-06-05T14:10:11.520726Z",
     "start_time": "2020-06-05T14:10:11.515749Z"
    }
   },
   "outputs": [],
   "source": [
    "from sklearn.metrics import f1_score, recall_score, precision_score, confusion_matrix"
   ]
  },
  {
   "cell_type": "code",
   "execution_count": 17,
   "metadata": {
    "ExecuteTime": {
     "end_time": "2020-06-05T14:00:27.379897Z",
     "start_time": "2020-06-05T14:00:26.750156Z"
    }
   },
   "outputs": [
    {
     "data": {
      "text/plain": [
       "<All keys matched successfully>"
      ]
     },
     "execution_count": 17,
     "metadata": {},
     "output_type": "execute_result"
    }
   ],
   "source": [
    "weight_path = 'output/resnet_base.pkl'\n",
    "model = ResNet34(2).to(device)\n",
    "model.load_state_dict(torch.load(weight_path))"
   ]
  },
  {
   "cell_type": "code",
   "execution_count": 19,
   "metadata": {
    "ExecuteTime": {
     "end_time": "2020-06-05T14:03:25.522400Z",
     "start_time": "2020-06-05T14:03:25.519237Z"
    }
   },
   "outputs": [
    {
     "data": {
      "text/plain": [
       "999"
      ]
     },
     "execution_count": 19,
     "metadata": {},
     "output_type": "execute_result"
    }
   ],
   "source": [
    "len(test_dataset)"
   ]
  },
  {
   "cell_type": "code",
   "execution_count": null,
   "metadata": {},
   "outputs": [],
   "source": []
  },
  {
   "cell_type": "code",
   "execution_count": 27,
   "metadata": {
    "ExecuteTime": {
     "end_time": "2020-06-05T14:13:49.461546Z",
     "start_time": "2020-06-05T14:13:43.102272Z"
    },
    "collapsed": true
   },
   "outputs": [
    {
     "name": "stderr",
     "output_type": "stream",
     "text": [
      "/home/hezhang/anaconda3/lib/python3.7/site-packages/ipykernel_launcher.py:4: TqdmDeprecationWarning: This function will be removed in tqdm==5.0.0\n",
      "Please use `tqdm.notebook.tqdm` instead of `tqdm.tqdm_notebook`\n",
      "  after removing the cwd from sys.path.\n"
     ]
    },
    {
     "data": {
      "application/vnd.jupyter.widget-view+json": {
       "model_id": "ee3dcf7b6ba5412f9f83fbf9842f3b81",
       "version_major": 2,
       "version_minor": 0
      },
      "text/plain": [
       "HBox(children=(FloatProgress(value=0.0, max=25.0), HTML(value='')))"
      ]
     },
     "metadata": {},
     "output_type": "display_data"
    },
    {
     "name": "stdout",
     "output_type": "stream",
     "text": [
      "0.800000011920929\n",
      "22 7 1 10\n",
      "--------------------****************---------------\n",
      "1.5\n",
      "18 8 4 10\n",
      "--------------------****************---------------\n",
      "2.275000035762787\n",
      "14 7 2 17\n",
      "--------------------****************---------------\n",
      "3.0500000715255737\n",
      "18 8 1 13\n",
      "--------------------****************---------------\n",
      "3.8250001072883606\n",
      "18 7 2 13\n",
      "--------------------****************---------------\n",
      "4.450000107288361\n",
      "20 12 3 5\n",
      "--------------------****************---------------\n",
      "5.275000095367432\n",
      "19 4 3 14\n",
      "--------------------****************---------------\n",
      "5.8750001192092896\n",
      "10 14 2 14\n",
      "--------------------****************---------------\n",
      "6.6000001430511475\n",
      "14 9 2 15\n",
      "--------------------****************---------------\n",
      "7.2250001430511475\n",
      "10 10 5 15\n",
      "--------------------****************---------------\n",
      "7.950000166893005\n",
      "20 8 3 9\n",
      "--------------------****************---------------\n",
      "8.675000190734863\n",
      "19 10 1 10\n",
      "--------------------****************---------------\n",
      "9.45000022649765\n",
      "21 8 1 10\n",
      "--------------------****************---------------\n",
      "10.300000250339508\n",
      "21 6 0 13\n",
      "--------------------****************---------------\n",
      "11.100000262260437\n",
      "18 6 2 14\n",
      "--------------------****************---------------\n",
      "11.875000298023224\n",
      "20 8 1 11\n",
      "--------------------****************---------------\n",
      "12.575000286102295\n",
      "19 10 2 9\n",
      "--------------------****************---------------\n",
      "13.225000321865082\n",
      "18 10 4 8\n",
      "--------------------****************---------------\n",
      "13.95000034570694\n",
      "17 11 0 12\n",
      "--------------------****************---------------\n",
      "14.750000357627869\n",
      "21 8 0 11\n",
      "--------------------****************---------------\n",
      "15.400000393390656\n",
      "18 10 4 8\n",
      "--------------------****************---------------\n",
      "16.225000381469727\n",
      "20 7 0 13\n",
      "--------------------****************---------------\n",
      "16.950000405311584\n",
      "17 8 3 12\n",
      "--------------------****************---------------\n",
      "17.700000405311584\n",
      "16 9 1 14\n",
      "--------------------****************---------------\n",
      "18.520513236522675\n",
      "20 3 4 12\n",
      "--------------------****************---------------\n",
      "\n",
      "448 208 51 292\n"
     ]
    }
   ],
   "source": [
    "test_acc = 0\n",
    "TN,FP,FN,TP = 0, 0, 0, 0\n",
    "with torch.no_grad():\n",
    "    for idx, (inputs,labels) in tqdm(enumerate(test_loader),total=len(test_loader)):\n",
    "        inputs = inputs.to(device)\n",
    "        labels = labels.to(device)\n",
    "        model.eval()\n",
    "        outputs = model(inputs.float())\n",
    "#         print(outputs)\n",
    "        test_acc += (outputs.argmax(1)==labels).float().mean().item()\n",
    "        tn, fp, fn, tp = confusion_matrix(outputs.argmax(1).cpu(), labels.cpu()).ravel()\n",
    "        TN += tn\n",
    "        FP += fp\n",
    "        FN += fn\n",
    "        TP += tp\n",
    "        print(test_acc)\n",
    "        print(tn, fp, fn, tp)\n",
    "        print('--------------------****************---------------')\n",
    "print(TN, FP, FN, TP)"
   ]
  },
  {
   "cell_type": "code",
   "execution_count": 35,
   "metadata": {
    "ExecuteTime": {
     "end_time": "2020-06-05T14:39:40.331981Z",
     "start_time": "2020-06-05T14:39:40.327421Z"
    }
   },
   "outputs": [
    {
     "name": "stdout",
     "output_type": "stream",
     "text": [
      "accuracy:\n",
      "\n",
      "0.7408205294609069\n",
      "metrics of dogs:\n",
      "\n",
      "precision 0.584 recall 0.8513119533527697 f1-score 0.34638196915776986\n"
     ]
    }
   ],
   "source": [
    "print('accuracy:\\n')\n",
    "print(test_acc/len(test_loader))\n",
    "precision = TP/(TP+FP)\n",
    "recall = TP/(TP+FN)\n",
    "f1_score = recall*precision/(precision+recall)\n",
    "print('metrics of dogs:\\n')\n",
    "print('precision', precision, 'recall', recall, 'f1-score', f1_score)"
   ]
  },
  {
   "cell_type": "code",
   "execution_count": 34,
   "metadata": {
    "ExecuteTime": {
     "end_time": "2020-06-05T14:37:07.964188Z",
     "start_time": "2020-06-05T14:37:07.959848Z"
    }
   },
   "outputs": [
    {
     "name": "stdout",
     "output_type": "stream",
     "text": [
      "precision 0.8977955911823647 recall 0.6829268292682927 f1-score 0.3878787878787879\n"
     ]
    }
   ],
   "source": [
    "TN_1 = TP\n",
    "FP_1 = FN\n",
    "FN_1 = FP\n",
    "TP_1 = TN\n",
    "precision = TP_1/(TP_1+FP_1)\n",
    "recall = TP_1/(TP_1+FN_1)\n",
    "f1_score = recall*precision/(precision+recall)\n",
    "print('metrics of cats:\\n')\n",
    "print('precision', precision, 'recall', recall, 'f1-score', f1_score)"
   ]
  },
  {
   "cell_type": "markdown",
   "metadata": {},
   "source": [
    "## wl"
   ]
  },
  {
   "cell_type": "code",
   "execution_count": 37,
   "metadata": {
    "ExecuteTime": {
     "end_time": "2020-06-05T14:46:56.438078Z",
     "start_time": "2020-06-05T14:46:48.897091Z"
    },
    "collapsed": true
   },
   "outputs": [
    {
     "name": "stderr",
     "output_type": "stream",
     "text": [
      "/home/hezhang/anaconda3/lib/python3.7/site-packages/ipykernel_launcher.py:7: TqdmDeprecationWarning: This function will be removed in tqdm==5.0.0\n",
      "Please use `tqdm.notebook.tqdm` instead of `tqdm.tqdm_notebook`\n",
      "  import sys\n"
     ]
    },
    {
     "data": {
      "application/vnd.jupyter.widget-view+json": {
       "model_id": "e4127cff62f24079ad640bb86a2d6390",
       "version_major": 2,
       "version_minor": 0
      },
      "text/plain": [
       "HBox(children=(FloatProgress(value=0.0, max=25.0), HTML(value='')))"
      ]
     },
     "metadata": {},
     "output_type": "display_data"
    },
    {
     "name": "stdout",
     "output_type": "stream",
     "text": [
      "0.7250000238418579\n",
      "10 0 11 19\n",
      "--------------------****************---------------\n",
      "1.350000023841858\n",
      "8 0 15 17\n",
      "--------------------****************---------------\n",
      "2.025000035762787\n",
      "7 1 12 20\n",
      "--------------------****************---------------\n",
      "2.700000047683716\n",
      "12 0 13 15\n",
      "--------------------****************---------------\n",
      "3.400000035762787\n",
      "13 1 11 15\n",
      "--------------------****************---------------\n",
      "4.150000035762787\n",
      "14 0 10 16\n",
      "--------------------****************---------------\n",
      "4.850000023841858\n",
      "10 1 11 18\n",
      "--------------------****************---------------\n",
      "5.625000059604645\n",
      "10 2 7 21\n",
      "--------------------****************---------------\n",
      "6.325000047683716\n",
      "8 1 11 20\n",
      "--------------------****************---------------\n",
      "7.150000035762787\n",
      "8 0 7 25\n",
      "--------------------****************---------------\n",
      "7.875000059604645\n",
      "5 3 8 24\n",
      "--------------------****************---------------\n",
      "8.650000095367432\n",
      "8 0 9 23\n",
      "--------------------****************---------------\n",
      "9.275000095367432\n",
      "7 2 13 18\n",
      "--------------------****************---------------\n",
      "10.025000095367432\n",
      "12 0 10 18\n",
      "--------------------****************---------------\n",
      "10.800000131130219\n",
      "9 0 9 22\n",
      "--------------------****************---------------\n",
      "11.575000166893005\n",
      "10 0 9 21\n",
      "--------------------****************---------------\n",
      "12.250000178813934\n",
      "10 0 13 17\n",
      "--------------------****************---------------\n",
      "12.975000202655792\n",
      "8 1 10 21\n",
      "--------------------****************---------------\n",
      "13.675000190734863\n",
      "11 2 10 17\n",
      "--------------------****************---------------\n",
      "14.375000178813934\n",
      "8 4 8 20\n",
      "--------------------****************---------------\n",
      "15.050000190734863\n",
      "8 0 13 19\n",
      "--------------------****************---------------\n",
      "15.725000202655792\n",
      "12 1 12 15\n",
      "--------------------****************---------------\n",
      "16.40000021457672\n",
      "9 2 11 18\n",
      "--------------------****************---------------\n",
      "17.12500023841858\n",
      "9 1 10 20\n",
      "--------------------****************---------------\n",
      "17.894231021404266\n",
      "11 0 9 19\n",
      "--------------------****************---------------\n",
      "\n",
      "237 22 262 478\n",
      "accuracy:\n",
      "\n",
      "0.7157692408561707\n",
      "metrics of dogs:\n",
      "\n",
      "precision 0.956 recall 0.6459459459459459 f1-score 0.38548387096774195\n",
      "metrics of cats:\n",
      "\n",
      "precision 0.4749498997995992 recall 0.915057915057915 f1-score 0.31266490765171506\n"
     ]
    }
   ],
   "source": [
    "weight_path = 'output/resnet_weightedLoss.pkl'\n",
    "model = ResNet34(2).to(device)\n",
    "model.load_state_dict(torch.load(weight_path))\n",
    "test_acc = 0\n",
    "TN,FP,FN,TP = 0, 0, 0, 0\n",
    "with torch.no_grad():\n",
    "    for idx, (inputs,labels) in tqdm(enumerate(test_loader),total=len(test_loader)):\n",
    "        inputs = inputs.to(device)\n",
    "        labels = labels.to(device)\n",
    "        model.eval()\n",
    "        outputs = model(inputs.float())\n",
    "#         print(outputs)\n",
    "        test_acc += (outputs.argmax(1)==labels).float().mean().item()\n",
    "        tn, fp, fn, tp = confusion_matrix(outputs.argmax(1).cpu(), labels.cpu()).ravel()\n",
    "        TN += tn\n",
    "        FP += fp\n",
    "        FN += fn\n",
    "        TP += tp\n",
    "        print(test_acc)\n",
    "        print(tn, fp, fn, tp)\n",
    "        print('--------------------****************---------------')\n",
    "print(TN, FP, FN, TP)\n",
    "print('accuracy:\\n')\n",
    "print(test_acc/len(test_loader))\n",
    "precision = TP/(TP+FP)\n",
    "recall = TP/(TP+FN)\n",
    "f1_score = recall*precision/(precision+recall)\n",
    "print('metrics of dogs:\\n')\n",
    "print('precision', precision, 'recall', recall, 'f1-score', f1_score)\n",
    "TN_1 = TP\n",
    "FP_1 = FN\n",
    "FN_1 = FP\n",
    "TP_1 = TN\n",
    "precision = TP_1/(TP_1+FP_1)\n",
    "recall = TP_1/(TP_1+FN_1)\n",
    "f1_score = recall*precision/(precision+recall)\n",
    "print('metrics of cats:\\n')\n",
    "print('precision', precision, 'recall', recall, 'f1-score', f1_score)"
   ]
  },
  {
   "cell_type": "code",
   "execution_count": 39,
   "metadata": {
    "ExecuteTime": {
     "end_time": "2020-06-05T14:49:52.420012Z",
     "start_time": "2020-06-05T14:49:45.986213Z"
    },
    "collapsed": true
   },
   "outputs": [
    {
     "name": "stderr",
     "output_type": "stream",
     "text": [
      "/home/hezhang/anaconda3/lib/python3.7/site-packages/ipykernel_launcher.py:7: TqdmDeprecationWarning: This function will be removed in tqdm==5.0.0\n",
      "Please use `tqdm.notebook.tqdm` instead of `tqdm.tqdm_notebook`\n",
      "  import sys\n"
     ]
    },
    {
     "data": {
      "application/vnd.jupyter.widget-view+json": {
       "model_id": "bd7fc2e2cce64bd3a955e9da99679d7a",
       "version_major": 2,
       "version_minor": 0
      },
      "text/plain": [
       "HBox(children=(FloatProgress(value=0.0, max=25.0), HTML(value='')))"
      ]
     },
     "metadata": {},
     "output_type": "display_data"
    },
    {
     "name": "stdout",
     "output_type": "stream",
     "text": [
      "0.75\n",
      "16 2 8 14\n",
      "--------------------****************---------------\n",
      "1.675000011920929\n",
      "20 1 2 17\n",
      "--------------------****************---------------\n",
      "2.425000011920929\n",
      "12 2 8 18\n",
      "--------------------****************---------------\n",
      "3.200000047683716\n",
      "12 2 7 19\n",
      "--------------------****************---------------\n",
      "4.025000035762787\n",
      "16 3 4 17\n",
      "--------------------****************---------------\n",
      "4.800000071525574\n",
      "17 3 6 14\n",
      "--------------------****************---------------\n",
      "5.425000071525574\n",
      "8 2 13 17\n",
      "--------------------****************---------------\n",
      "6.125000059604645\n",
      "11 3 9 17\n",
      "--------------------****************---------------\n",
      "7.025000095367432\n",
      "15 3 1 21\n",
      "--------------------****************---------------\n",
      "7.850000083446503\n",
      "15 2 5 18\n",
      "--------------------****************---------------\n",
      "8.57500010728836\n",
      "9 3 8 20\n",
      "--------------------****************---------------\n",
      "9.275000095367432\n",
      "14 3 9 14\n",
      "--------------------****************---------------\n",
      "10.07500010728836\n",
      "9 2 6 23\n",
      "--------------------****************---------------\n",
      "10.800000131130219\n",
      "11 4 7 18\n",
      "--------------------****************---------------\n",
      "11.50000011920929\n",
      "11 4 8 17\n",
      "--------------------****************---------------\n",
      "12.225000143051147\n",
      "13 5 6 16\n",
      "--------------------****************---------------\n",
      "13.025000154972076\n",
      "16 3 5 16\n",
      "--------------------****************---------------\n",
      "13.825000166893005\n",
      "15 2 6 17\n",
      "--------------------****************---------------\n",
      "14.550000190734863\n",
      "12 3 8 17\n",
      "--------------------****************---------------\n",
      "15.32500022649765\n",
      "12 2 7 19\n",
      "--------------------****************---------------\n",
      "16.07500022649765\n",
      "13 2 8 17\n",
      "--------------------****************---------------\n",
      "16.70000022649765\n",
      "15 7 8 10\n",
      "--------------------****************---------------\n",
      "17.600000262260437\n",
      "18 1 3 18\n",
      "--------------------****************---------------\n",
      "18.300000250339508\n",
      "14 4 8 14\n",
      "--------------------****************---------------\n",
      "19.094872057437897\n",
      "11 4 4 20\n",
      "--------------------****************---------------\n",
      "\n",
      "335 72 164 428\n",
      "accuracy:\n",
      "\n",
      "0.7637948822975159\n",
      "metrics of dogs:\n",
      "\n",
      "precision 0.856 recall 0.722972972972973 f1-score 0.39194139194139194\n",
      "metrics of cats:\n",
      "\n",
      "precision 0.6713426853707415 recall 0.8230958230958231 f1-score 0.369757174392936\n"
     ]
    }
   ],
   "source": [
    "weight_path = 'output/resnet_oversampling.pkl'\n",
    "model = ResNet34(2).to(device)\n",
    "model.load_state_dict(torch.load(weight_path))\n",
    "test_acc = 0\n",
    "TN,FP,FN,TP = 0, 0, 0, 0\n",
    "with torch.no_grad():\n",
    "    for idx, (inputs,labels) in tqdm(enumerate(test_loader),total=len(test_loader)):\n",
    "        inputs = inputs.to(device)\n",
    "        labels = labels.to(device)\n",
    "        model.eval()\n",
    "        outputs = model(inputs.float())\n",
    "#         print(outputs)\n",
    "        test_acc += (outputs.argmax(1)==labels).float().mean().item()\n",
    "        tn, fp, fn, tp = confusion_matrix(outputs.argmax(1).cpu(), labels.cpu()).ravel()\n",
    "        TN += tn\n",
    "        FP += fp\n",
    "        FN += fn\n",
    "        TP += tp\n",
    "        print(test_acc)\n",
    "        print(tn, fp, fn, tp)\n",
    "        print('--------------------****************---------------')\n",
    "print(TN, FP, FN, TP)\n",
    "print('accuracy:\\n')\n",
    "print(test_acc/len(test_loader))\n",
    "precision = TP/(TP+FP)\n",
    "recall = TP/(TP+FN)\n",
    "f1_score = recall*precision/(precision+recall)\n",
    "print('metrics of dogs:\\n')\n",
    "print('precision', precision, 'recall', recall, 'f1-score', f1_score)\n",
    "TN_1 = TP\n",
    "FP_1 = FN\n",
    "FN_1 = FP\n",
    "TP_1 = TN\n",
    "precision = TP_1/(TP_1+FP_1)\n",
    "recall = TP_1/(TP_1+FN_1)\n",
    "f1_score = recall*precision/(precision+recall)\n",
    "print('metrics of cats:\\n')\n",
    "print('precision', precision, 'recall', recall, 'f1-score', f1_score)"
   ]
  },
  {
   "cell_type": "code",
   "execution_count": 40,
   "metadata": {
    "ExecuteTime": {
     "end_time": "2020-06-05T14:51:32.517233Z",
     "start_time": "2020-06-05T14:51:24.168320Z"
    },
    "collapsed": true
   },
   "outputs": [
    {
     "name": "stderr",
     "output_type": "stream",
     "text": [
      "/home/hezhang/anaconda3/lib/python3.7/site-packages/ipykernel_launcher.py:7: TqdmDeprecationWarning: This function will be removed in tqdm==5.0.0\n",
      "Please use `tqdm.notebook.tqdm` instead of `tqdm.tqdm_notebook`\n",
      "  import sys\n"
     ]
    },
    {
     "data": {
      "application/vnd.jupyter.widget-view+json": {
       "model_id": "1809b63c7bbd4e8ead5608ac733ce89a",
       "version_major": 2,
       "version_minor": 0
      },
      "text/plain": [
       "HBox(children=(FloatProgress(value=0.0, max=25.0), HTML(value='')))"
      ]
     },
     "metadata": {},
     "output_type": "display_data"
    },
    {
     "name": "stdout",
     "output_type": "stream",
     "text": [
      "0.6000000238418579\n",
      "6 2 14 18\n",
      "--------------------****************---------------\n",
      "1.2500000596046448\n",
      "8 1 13 18\n",
      "--------------------****************---------------\n",
      "1.9250000715255737\n",
      "7 1 12 20\n",
      "--------------------****************---------------\n",
      "2.6500000953674316\n",
      "5 1 10 24\n",
      "--------------------****************---------------\n",
      "3.4000000953674316\n",
      "5 1 9 25\n",
      "--------------------****************---------------\n",
      "4.100000083446503\n",
      "8 0 12 20\n",
      "--------------------****************---------------\n",
      "4.700000107288361\n",
      "12 5 11 12\n",
      "--------------------****************---------------\n",
      "5.400000095367432\n",
      "10 1 11 18\n",
      "--------------------****************---------------\n",
      "6.0500001311302185\n",
      "8 1 13 18\n",
      "--------------------****************---------------\n",
      "6.7250001430511475\n",
      "10 1 12 17\n",
      "--------------------****************---------------\n",
      "7.375000178813934\n",
      "5 0 14 21\n",
      "--------------------****************---------------\n",
      "8.075000166893005\n",
      "8 1 11 20\n",
      "--------------------****************---------------\n",
      "8.700000166893005\n",
      "6 1 14 19\n",
      "--------------------****************---------------\n",
      "9.250000178813934\n",
      "5 2 16 17\n",
      "--------------------****************---------------\n",
      "9.825000166893005\n",
      "5 0 17 18\n",
      "--------------------****************---------------\n",
      "10.400000154972076\n",
      "8 0 17 15\n",
      "--------------------****************---------------\n",
      "11.125000178813934\n",
      "9 1 10 20\n",
      "--------------------****************---------------\n",
      "11.875000178813934\n",
      "11 2 8 19\n",
      "--------------------****************---------------\n",
      "12.375000178813934\n",
      "10 3 17 10\n",
      "--------------------****************---------------\n",
      "13.025000214576721\n",
      "7 2 12 19\n",
      "--------------------****************---------------\n",
      "13.725000202655792\n",
      "12 1 11 16\n",
      "--------------------****************---------------\n",
      "14.500000238418579\n",
      "6 3 6 25\n",
      "--------------------****************---------------\n",
      "15.050000250339508\n",
      "4 4 14 18\n",
      "--------------------****************---------------\n",
      "15.650000274181366\n",
      "4 3 13 20\n",
      "--------------------****************---------------\n",
      "16.316666960716248\n",
      "11 1 12 15\n",
      "--------------------****************---------------\n",
      "\n",
      "190 38 309 462\n",
      "accuracy:\n",
      "\n",
      "0.6526666784286499\n",
      "metrics of dogs:\n",
      "\n",
      "precision 0.924 recall 0.5992217898832685 f1-score 0.3634933123524784\n",
      "metrics of cats:\n",
      "\n",
      "precision 0.3807615230460922 recall 0.8333333333333334 f1-score 0.2613480055020633\n"
     ]
    }
   ],
   "source": [
    "weight_path = 'output/resnet_undersampling.pkl'\n",
    "model = ResNet34(2).to(device)\n",
    "model.load_state_dict(torch.load(weight_path))\n",
    "test_acc = 0\n",
    "TN,FP,FN,TP = 0, 0, 0, 0\n",
    "with torch.no_grad():\n",
    "    for idx, (inputs,labels) in tqdm(enumerate(test_loader),total=len(test_loader)):\n",
    "        inputs = inputs.to(device)\n",
    "        labels = labels.to(device)\n",
    "        model.eval()\n",
    "        outputs = model(inputs.float())\n",
    "#         print(outputs)\n",
    "        test_acc += (outputs.argmax(1)==labels).float().mean().item()\n",
    "        tn, fp, fn, tp = confusion_matrix(outputs.argmax(1).cpu(), labels.cpu()).ravel()\n",
    "        TN += tn\n",
    "        FP += fp\n",
    "        FN += fn\n",
    "        TP += tp\n",
    "        print(test_acc)\n",
    "        print(tn, fp, fn, tp)\n",
    "        print('--------------------****************---------------')\n",
    "print(TN, FP, FN, TP)\n",
    "print('accuracy:\\n')\n",
    "print(test_acc/len(test_loader))\n",
    "precision = TP/(TP+FP)\n",
    "recall = TP/(TP+FN)\n",
    "f1_score = recall*precision/(precision+recall)\n",
    "print('metrics of dogs:\\n')\n",
    "print('precision', precision, 'recall', recall, 'f1-score', f1_score)\n",
    "TN_1 = TP\n",
    "FP_1 = FN\n",
    "FN_1 = FP\n",
    "TP_1 = TN\n",
    "precision = TP_1/(TP_1+FP_1)\n",
    "recall = TP_1/(TP_1+FN_1)\n",
    "f1_score = recall*precision/(precision+recall)\n",
    "print('metrics of cats:\\n')\n",
    "print('precision', precision, 'recall', recall, 'f1-score', f1_score)"
   ]
  },
  {
   "cell_type": "code",
   "execution_count": 48,
   "metadata": {
    "ExecuteTime": {
     "end_time": "2020-06-05T16:18:28.813389Z",
     "start_time": "2020-06-05T16:18:27.184652Z"
    }
   },
   "outputs": [
    {
     "data": {
      "image/png": "[encoded data removed]",
      "text/plain": [
       "<Figure size 1440x10800 with 1 Axes>"
      ]
     },
     "metadata": {
      "needs_background": "light"
     },
     "output_type": "display_data"
    }
   ],
   "source": [
    "test_loader = torch.utils.data.DataLoader(test_dataset, batch_size=16, shuffle=True)\n",
    "def imshow(inp, title=None):\n",
    "    \"\"\"Imshow for Tensor.\"\"\"\n",
    "    inp = inp.numpy().transpose((1, 2, 0))\n",
    "    plt.figure(figsize=(20,150))\n",
    "    plt.imshow(inp)\n",
    "\n",
    "inputs, classes = next(iter(test_loader))\n",
    "\n",
    "# Make a grid from batch\n",
    "out = torchvision.utils.make_grid(inputs, scale_each= True)\n",
    "\n",
    "imshow(out)\n",
    "# plt.savefig('example.png', dpi=300)"
   ]
  },
  {
   "cell_type": "code",
   "execution_count": 58,
   "metadata": {
    "ExecuteTime": {
     "end_time": "2020-06-05T16:48:39.984623Z",
     "start_time": "2020-06-05T16:48:02.980842Z"
    },
    "scrolled": false
   },
   "outputs": [
    {
     "name": "stderr",
     "output_type": "stream",
     "text": [
      "/home/hezhang/anaconda3/lib/python3.7/site-packages/ipykernel_launcher.py:5: TqdmDeprecationWarning: This function will be removed in tqdm==5.0.0\n",
      "Please use `tqdm.notebook.tqdm` instead of `tqdm.tqdm_notebook`\n",
      "  \"\"\"\n"
     ]
    },
    {
     "data": {
      "application/vnd.jupyter.widget-view+json": {
       "model_id": "d5840d5bbc694a77aa09a17d7f5395fb",
       "version_major": 2,
       "version_minor": 0
      },
      "text/plain": [
       "HBox(children=(FloatProgress(value=0.0, max=63.0), HTML(value='')))"
      ]
     },
     "metadata": {},
     "output_type": "display_data"
    },
    {
     "data": {
      "image/png": "[encoded data removed]",
      "text/plain": [
       "<Figure size 1440x3600 with 5 Axes>"
      ]
     },
     "metadata": {
      "needs_background": "light"
     },
     "output_type": "display_data"
    }
   ],
   "source": [
    "weight_path = 'output/resnet_oversampling.pkl'\n",
    "model = ResNet34(2).to(device)\n",
    "model.load_state_dict(torch.load(weight_path))\n",
    "with torch.no_grad():\n",
    "    for idx, (inputs,labels) in tqdm(enumerate(test_loader),total=len(test_loader)):\n",
    "        inputs = inputs.to(device)\n",
    "#         labels = labels.to(device)\n",
    "        model.eval()\n",
    "        outputs = model(inputs.float())\n",
    "        pred_classes = outputs.argmax(1).cpu()\n",
    "#         out = torchvision.utils.make_grid(inputs, scale_each= True)\n",
    "#         imshow(out,True)\n",
    "        figs, ax = plt.subplots(1,5,figsize=(20,50))\n",
    "        for i in range(5):\n",
    "            j = i//5\n",
    "            k = i%5\n",
    "            inp = inputs[i].cpu().numpy().transpose((1, 2, 0))\n",
    "            ax[k].imshow(inp)\n",
    "            ax[k].set_title(f'{pred_classes[i]}',fontsize=20)\n",
    "            plt.savefig('result_1.png', dpi=300)\n",
    "#         plt.show()\n",
    "        break"
   ]
  },
  {
   "cell_type": "code",
   "execution_count": 51,
   "metadata": {
    "ExecuteTime": {
     "end_time": "2020-06-05T16:22:57.681356Z",
     "start_time": "2020-06-05T16:22:57.677756Z"
    }
   },
   "outputs": [
    {
     "data": {
      "text/plain": [
       "torch.Size([16, 3, 64, 64])"
      ]
     },
     "execution_count": 51,
     "metadata": {},
     "output_type": "execute_result"
    }
   ],
   "source": [
    "inputs.size()"
   ]
  },
  {
   "cell_type": "code",
   "execution_count": 42,
   "metadata": {
    "ExecuteTime": {
     "end_time": "2020-06-05T15:37:10.341457Z",
     "start_time": "2020-06-05T15:37:10.276104Z"
    },
    "collapsed": true
   },
   "outputs": [
    {
     "name": "stdout",
     "output_type": "stream",
     "text": [
      "----------------------------------------------------------------\n",
      "        Layer (type)               Output Shape         Param #\n",
      "================================================================\n",
      "            Conv2d-1           [-1, 64, 32, 32]           9,408\n",
      "       BatchNorm2d-2           [-1, 64, 32, 32]             128\n",
      "              ReLU-3           [-1, 64, 32, 32]               0\n",
      "         MaxPool2d-4           [-1, 64, 15, 15]               0\n",
      "            Conv2d-5           [-1, 64, 15, 15]          36,864\n",
      "       BatchNorm2d-6           [-1, 64, 15, 15]             128\n",
      "              ReLU-7           [-1, 64, 15, 15]               0\n",
      "            Conv2d-8           [-1, 64, 15, 15]          36,864\n",
      "       BatchNorm2d-9           [-1, 64, 15, 15]             128\n",
      "    ResidualBlock-10           [-1, 64, 15, 15]               0\n",
      "           Conv2d-11           [-1, 64, 15, 15]          36,864\n",
      "      BatchNorm2d-12           [-1, 64, 15, 15]             128\n",
      "             ReLU-13           [-1, 64, 15, 15]               0\n",
      "           Conv2d-14           [-1, 64, 15, 15]          36,864\n",
      "      BatchNorm2d-15           [-1, 64, 15, 15]             128\n",
      "    ResidualBlock-16           [-1, 64, 15, 15]               0\n",
      "           Conv2d-17           [-1, 64, 15, 15]          36,864\n",
      "      BatchNorm2d-18           [-1, 64, 15, 15]             128\n",
      "             ReLU-19           [-1, 64, 15, 15]               0\n",
      "           Conv2d-20           [-1, 64, 15, 15]          36,864\n",
      "      BatchNorm2d-21           [-1, 64, 15, 15]             128\n",
      "    ResidualBlock-22           [-1, 64, 15, 15]               0\n",
      "           Conv2d-23          [-1, 128, 15, 15]          73,728\n",
      "      BatchNorm2d-24          [-1, 128, 15, 15]             256\n",
      "             ReLU-25          [-1, 128, 15, 15]               0\n",
      "           Conv2d-26          [-1, 128, 15, 15]         147,456\n",
      "      BatchNorm2d-27          [-1, 128, 15, 15]             256\n",
      "           Conv2d-28          [-1, 128, 15, 15]           8,192\n",
      "      BatchNorm2d-29          [-1, 128, 15, 15]             256\n",
      "    ResidualBlock-30          [-1, 128, 15, 15]               0\n",
      "           Conv2d-31          [-1, 128, 15, 15]         147,456\n",
      "      BatchNorm2d-32          [-1, 128, 15, 15]             256\n",
      "             ReLU-33          [-1, 128, 15, 15]               0\n",
      "           Conv2d-34          [-1, 128, 15, 15]         147,456\n",
      "      BatchNorm2d-35          [-1, 128, 15, 15]             256\n",
      "    ResidualBlock-36          [-1, 128, 15, 15]               0\n",
      "           Conv2d-37          [-1, 128, 15, 15]         147,456\n",
      "      BatchNorm2d-38          [-1, 128, 15, 15]             256\n",
      "             ReLU-39          [-1, 128, 15, 15]               0\n",
      "           Conv2d-40          [-1, 128, 15, 15]         147,456\n",
      "      BatchNorm2d-41          [-1, 128, 15, 15]             256\n",
      "    ResidualBlock-42          [-1, 128, 15, 15]               0\n",
      "           Conv2d-43            [-1, 128, 8, 8]         147,456\n",
      "      BatchNorm2d-44            [-1, 128, 8, 8]             256\n",
      "             ReLU-45            [-1, 128, 8, 8]               0\n",
      "           Conv2d-46            [-1, 128, 8, 8]         147,456\n",
      "      BatchNorm2d-47            [-1, 128, 8, 8]             256\n",
      "           Conv2d-48            [-1, 128, 8, 8]          16,384\n",
      "      BatchNorm2d-49            [-1, 128, 8, 8]             256\n",
      "    ResidualBlock-50            [-1, 128, 8, 8]               0\n",
      "           Conv2d-51            [-1, 256, 8, 8]         294,912\n",
      "      BatchNorm2d-52            [-1, 256, 8, 8]             512\n",
      "             ReLU-53            [-1, 256, 8, 8]               0\n",
      "           Conv2d-54            [-1, 256, 8, 8]         589,824\n",
      "      BatchNorm2d-55            [-1, 256, 8, 8]             512\n",
      "           Conv2d-56            [-1, 256, 8, 8]          32,768\n",
      "      BatchNorm2d-57            [-1, 256, 8, 8]             512\n",
      "    ResidualBlock-58            [-1, 256, 8, 8]               0\n",
      "           Conv2d-59            [-1, 256, 8, 8]         589,824\n",
      "      BatchNorm2d-60            [-1, 256, 8, 8]             512\n",
      "             ReLU-61            [-1, 256, 8, 8]               0\n",
      "           Conv2d-62            [-1, 256, 8, 8]         589,824\n",
      "      BatchNorm2d-63            [-1, 256, 8, 8]             512\n",
      "    ResidualBlock-64            [-1, 256, 8, 8]               0\n",
      "           Conv2d-65            [-1, 256, 8, 8]         589,824\n",
      "      BatchNorm2d-66            [-1, 256, 8, 8]             512\n",
      "             ReLU-67            [-1, 256, 8, 8]               0\n",
      "           Conv2d-68            [-1, 256, 8, 8]         589,824\n",
      "      BatchNorm2d-69            [-1, 256, 8, 8]             512\n",
      "    ResidualBlock-70            [-1, 256, 8, 8]               0\n",
      "           Conv2d-71            [-1, 256, 8, 8]         589,824\n",
      "      BatchNorm2d-72            [-1, 256, 8, 8]             512\n",
      "             ReLU-73            [-1, 256, 8, 8]               0\n",
      "           Conv2d-74            [-1, 256, 8, 8]         589,824\n",
      "      BatchNorm2d-75            [-1, 256, 8, 8]             512\n",
      "    ResidualBlock-76            [-1, 256, 8, 8]               0\n",
      "           Conv2d-77            [-1, 256, 8, 8]         589,824\n",
      "      BatchNorm2d-78            [-1, 256, 8, 8]             512\n",
      "             ReLU-79            [-1, 256, 8, 8]               0\n",
      "           Conv2d-80            [-1, 256, 8, 8]         589,824\n",
      "      BatchNorm2d-81            [-1, 256, 8, 8]             512\n",
      "    ResidualBlock-82            [-1, 256, 8, 8]               0\n",
      "           Conv2d-83            [-1, 256, 4, 4]         589,824\n",
      "      BatchNorm2d-84            [-1, 256, 4, 4]             512\n",
      "             ReLU-85            [-1, 256, 4, 4]               0\n",
      "           Conv2d-86            [-1, 256, 4, 4]         589,824\n",
      "      BatchNorm2d-87            [-1, 256, 4, 4]             512\n",
      "           Conv2d-88            [-1, 256, 4, 4]          65,536\n",
      "      BatchNorm2d-89            [-1, 256, 4, 4]             512\n",
      "    ResidualBlock-90            [-1, 256, 4, 4]               0\n",
      "           Conv2d-91            [-1, 512, 4, 4]       1,179,648\n",
      "      BatchNorm2d-92            [-1, 512, 4, 4]           1,024\n",
      "             ReLU-93            [-1, 512, 4, 4]               0\n",
      "           Conv2d-94            [-1, 512, 4, 4]       2,359,296\n",
      "      BatchNorm2d-95            [-1, 512, 4, 4]           1,024\n",
      "           Conv2d-96            [-1, 512, 4, 4]         131,072\n",
      "      BatchNorm2d-97            [-1, 512, 4, 4]           1,024\n",
      "    ResidualBlock-98            [-1, 512, 4, 4]               0\n",
      "           Conv2d-99            [-1, 512, 4, 4]       2,359,296\n",
      "     BatchNorm2d-100            [-1, 512, 4, 4]           1,024\n",
      "            ReLU-101            [-1, 512, 4, 4]               0\n",
      "          Conv2d-102            [-1, 512, 4, 4]       2,359,296\n",
      "     BatchNorm2d-103            [-1, 512, 4, 4]           1,024\n",
      "   ResidualBlock-104            [-1, 512, 4, 4]               0\n",
      "          Conv2d-105            [-1, 512, 2, 2]       2,359,296\n",
      "     BatchNorm2d-106            [-1, 512, 2, 2]           1,024\n",
      "            ReLU-107            [-1, 512, 2, 2]               0\n",
      "          Conv2d-108            [-1, 512, 2, 2]       2,359,296\n",
      "     BatchNorm2d-109            [-1, 512, 2, 2]           1,024\n",
      "          Conv2d-110            [-1, 512, 2, 2]         262,144\n",
      "     BatchNorm2d-111            [-1, 512, 2, 2]           1,024\n",
      "   ResidualBlock-112            [-1, 512, 2, 2]               0\n",
      "       AvgPool2d-113            [-1, 512, 1, 1]               0\n",
      "          Linear-114                    [-1, 2]           1,026\n",
      "================================================================\n",
      "Total params: 21,631,554\n",
      "Trainable params: 21,631,554\n",
      "Non-trainable params: 0\n",
      "----------------------------------------------------------------\n",
      "Input size (MB): 0.05\n",
      "Forward/backward pass size (MB): 13.74\n",
      "Params size (MB): 82.52\n",
      "Estimated Total Size (MB): 96.30\n",
      "----------------------------------------------------------------\n"
     ]
    }
   ],
   "source": [
    "from torchsummary import summary\n",
    "summary(model, (3, 64, 64))"
   ]
  },
  {
   "cell_type": "code",
   "execution_count": null,
   "metadata": {},
   "outputs": [],
   "source": []
  }
 ],
 "metadata": {
  "kernelspec": {
   "display_name": "Python 3",
   "language": "python",
   "name": "python3"
  },
  "language_info": {
   "codemirror_mode": {
    "name": "ipython",
    "version": 3
   },
   "file_extension": ".py",
   "mimetype": "text/x-python",
   "name": "python",
   "nbconvert_exporter": "python",
   "pygments_lexer": "ipython3",
   "version": "3.7.6"
  },
  "toc": {
   "base_numbering": 1,
   "nav_menu": {},
   "number_sections": true,
   "sideBar": true,
   "skip_h1_title": false,
   "title_cell": "Table of Contents",
   "title_sidebar": "Contents",
   "toc_cell": false,
   "toc_position": {
    "height": "calc(100% - 180px)",
    "left": "10px",
    "top": "150px",
    "width": "256px"
   },
   "toc_section_display": true,
   "toc_window_display": false
  }
 },
 "nbformat": 4,
 "nbformat_minor": 4
}
